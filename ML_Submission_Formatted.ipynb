{
  "nbformat": 4,
  "nbformat_minor": 0,
  "metadata": {
    "colab": {
      "private_outputs": true,
      "provenance": [],
      "collapsed_sections": [
        "vncDsAP0Gaoa",
        "FJNUwmbgGyua",
        "w6K7xa23Elo4",
        "yQaldy8SH6Dl",
        "mDgbUHAGgjLW",
        "O_i_v8NEhb9l",
        "HhfV-JJviCcP",
        "Y3lxredqlCYt",
        "3RnN4peoiCZX",
        "x71ZqKXriCWQ",
        "7hBIi_osiCS2",
        "JlHwYmJAmNHm",
        "35m5QtbWiB9F",
        "PoPl-ycgm1ru",
        "H0kj-8xxnORC",
        "nA9Y7ga8ng1Z",
        "PBTbrJXOngz2",
        "u3PMJOP6ngxN",
        "dauF4eBmngu3",
        "bKJF3rekwFvQ",
        "MSa1f5Uengrz",
        "GF8Ens_Soomf",
        "0wOQAZs5pc--",
        "K5QZ13OEpz2H",
        "lQ7QKXXCp7Bj",
        "448CDAPjqfQr",
        "KSlN3yHqYklG",
        "t6dVpIINYklI",
        "ijmpgYnKYklI",
        "-JiQyfWJYklI",
        "EM7whBJCYoAo",
        "fge-S5ZAYoAp",
        "85gYPyotYoAp",
        "RoGjAbkUYoAp",
        "4Of9eVA-YrdM",
        "iky9q4vBYrdO",
        "F6T5p64dYrdO",
        "y-Ehk30pYrdP",
        "bamQiAODYuh1",
        "QHF8YVU7Yuh3",
        "GwzvFGzlYuh3",
        "qYpmQ266Yuh3",
        "OH-pJp9IphqM",
        "bbFf2-_FphqN",
        "_ouA3fa0phqN",
        "Seke61FWphqN",
        "PIIx-8_IphqN",
        "t27r6nlMphqO",
        "r2jJGEOYphqO",
        "b0JNsNcRphqO",
        "BZR9WyysphqO",
        "jj7wYXLtphqO",
        "eZrbJ2SmphqO",
        "rFu4xreNphqO",
        "YJ55k-q6phqO",
        "gCFgpxoyphqP",
        "OVtJsKN_phqQ",
        "lssrdh5qphqQ",
        "U2RJ9gkRphqQ",
        "1M8mcRywphqQ",
        "tgIPom80phqQ",
        "JMzcOPDDphqR",
        "x-EpHcCOp1ci",
        "X_VqEhTip1ck",
        "8zGJKyg5p1ck",
        "PVzmfK_Ep1ck",
        "n3dbpmDWp1ck",
        "ylSl6qgtp1ck",
        "ZWILFDl5p1ck",
        "M7G43BXep1ck",
        "Ag9LCva-p1cl",
        "E6MkPsBcp1cl",
        "2cELzS2fp1cl",
        "3MPXvC8up1cl",
        "NC_X3p0fY2L0",
        "UV0SzAkaZNRQ",
        "YPEH6qLeZNRQ",
        "q29F0dvdveiT",
        "EXh0U9oCveiU",
        "22aHeOlLveiV",
        "g-ATYxFrGrvw",
        "Yfr_Vlr8HBkt",
        "8yEUt7NnHlrM",
        "tEA2Xm5dHt1r",
        "I79__PHVH19G",
        "Ou-I18pAyIpj",
        "fF3858GYyt-u",
        "4_0_7-oCpUZd",
        "hwyV_J3ipUZe",
        "3yB-zSqbpUZe",
        "dEUvejAfpUZe",
        "Fd15vwWVpUZf",
        "bn_IUdTipZyH",
        "49K5P_iCpZyH",
        "Nff-vKELpZyI",
        "kLW572S8pZyI",
        "dWbDXHzopZyI",
        "yLjJCtPM0KBk",
        "xiyOF9F70UgQ",
        "7wuGOrhz0itI",
        "id1riN9m0vUs",
        "578E2V7j08f6",
        "89xtkJwZ18nB",
        "67NQN5KX2AMe",
        "Iwf50b-R2tYG",
        "GMQiZwjn3iu7",
        "WVIkgGqN3qsr",
        "XkPnILGE3zoT",
        "Hlsf0x5436Go",
        "mT9DMSJo4nBL",
        "c49ITxTc407N",
        "OeJFEK0N496M",
        "9ExmJH0g5HBk",
        "cJNqERVU536h",
        "k5UmGsbsOxih",
        "T0VqWOYE6DLQ",
        "qBMux9mC6MCf",
        "-oLEiFgy-5Pf",
        "C74aWNz2AliB",
        "2DejudWSA-a0",
        "pEMng2IbBLp7",
        "rAdphbQ9Bhjc",
        "TNVZ9zx19K6k",
        "nqoHp30x9hH9",
        "rMDnDkt2B6du",
        "yiiVWRdJDDil",
        "1UUpS68QDMuG",
        "kexQrXU-DjzY",
        "T5CmagL3EC8N",
        "BhH2vgX9EjGr",
        "qjKvONjwE8ra",
        "P1XJ9OREExlT",
        "VFOzZv6IFROw",
        "TIqpNgepFxVj",
        "VfCC591jGiD4",
        "OB4l2ZhMeS1U",
        "ArJBuiUVfxKd",
        "4qY1EAkEfxKe",
        "PiV4Ypx8fxKe",
        "TfvqoZmBfxKf",
        "dJ2tPlVmpsJ0",
        "JWYfwnehpsJ1",
        "-jK_YjpMpsJ2",
        "HAih1iBOpsJ2",
        "zVGeBEFhpsJ2",
        "bmKjuQ-FpsJ3",
        "Fze-IPXLpx6K",
        "7AN1z2sKpx6M",
        "9PIHJqyupx6M",
        "_-qAgymDpx6N",
        "Z-hykwinpx6N",
        "h_CCil-SKHpo",
        "cBFFvTBNJzUa",
        "HvGl1hHyA_VK",
        "EyNgTHvd2WFk",
        "KH5McJBi2d8v",
        "iW_Lq9qf2h6X",
        "-Kee-DAl2viO",
        "gCX9965dhzqZ",
        "gIfDvo9L0UH2"
      ],
      "toc_visible": true,
      "include_colab_link": true
    },
    "kernelspec": {
      "name": "python3",
      "display_name": "Python 3"
    },
    "language_info": {
      "name": "python"
    }
  },
  "cells": [
    {
      "cell_type": "markdown",
      "metadata": {
        "id": "view-in-github",
        "colab_type": "text"
      },
      "source": [
        "<a href=\"https://colab.research.google.com/github/nitin7478/Retail-Sales-Prediction-Capstone-ML-Final/blob/main/ML_Submission_Formatted.ipynb\" target=\"_parent\"><img src=\"https://colab.research.google.com/assets/colab-badge.svg\" alt=\"Open In Colab\"/></a>"
      ]
    },
    {
      "cell_type": "markdown",
      "source": [
        "# **Project Name**    -  Forecasting Rossmann Store Sales\n",
        "\n"
      ],
      "metadata": {
        "id": "vncDsAP0Gaoa"
      }
    },
    {
      "cell_type": "markdown",
      "source": [
        "##### **Project Type**    - Regression\n",
        "##### **Contribution**    - Individual\n",
        "\n"
      ],
      "metadata": {
        "id": "beRrZCGUAJYm"
      }
    },
    {
      "cell_type": "markdown",
      "source": [
        "# **Project Summary -**"
      ],
      "metadata": {
        "id": "FJNUwmbgGyua"
      }
    },
    {
      "cell_type": "markdown",
      "source": [
        "Rossmann, a prominent retail chain with over 3,000 stores across 7 European countries, faces the challenge of accurately predicting daily sales up to six weeks in advance. This prediction is crucial for effective resource allocation, inventory management, and overall business planning. However, predicting sales accurately is complex due to various influencing factors such as promotions, competition, holidays, seasonality, and locality.\n",
        "\n",
        "Currently, store managers individually forecast sales based on their unique circumstances, resulting in varied accuracy of predictions. To address this issue, historical sales data for 1,115 Rossmann stores is provided, offering a valuable opportunity to develop robust forecasting models.\n",
        "\n",
        "The primary objective of this project is to leverage machine learning techniques to forecast the \"Sales\" column for the test set accurately. This involves analyzing historical sales data and identifying key factors influencing sales trends. Additionally, the challenge includes accounting for temporary closures of some stores for refurbishment, which may impact the overall sales dynamics.\n",
        "\n",
        "By building accurate sales forecasting models, Rossmann aims to optimize operations, enhance decision-making processes, and improve overall business performance. This project represents a significant opportunity to harness data-driven insights to drive strategic growth and efficiency within the retail chain.\n",
        "\n",
        "\n",
        "### <b> Data Description </b>\n",
        "\n",
        "<b>Rossmann Stores Data.csv </b> - historical data including Sales\n",
        "<br><b>store.csv </b> - supplemental information about the stores\n",
        "\n",
        "\n",
        "<b><u>Data fields</u></b>\n",
        "Most of the fields are self-explanatory. The following are descriptions for those that aren't.\n",
        "\n",
        "* #### Id - an Id that represents a (Store, Date) duple within the test set\n",
        "* #### Store - a unique Id for each store\n",
        "* #### Sales - the turnover for any given day (this is what you are predicting)\n",
        "* #### Customers - the number of customers on a given day\n",
        "* #### Open - an indicator for whether the store was open: 0 = closed, 1 = open\n",
        "* #### StateHoliday - indicates a state holiday. Normally all stores, with few exceptions, are closed on state holidays. Note that all schools are closed on public holidays and weekends. a = public holiday, b = Easter holiday, c = Christmas, 0 = None\n",
        "* #### SchoolHoliday - indicates if the (Store, Date) was affected by the closure of public schools\n",
        "* #### StoreType - differentiates between 4 different store models: a, b, c, d\n",
        "* #### Assortment - describes an assortment level: a = basic, b = extra, c = extended\n",
        "* #### CompetitionDistance - distance in meters to the nearest competitor store\n",
        "* #### CompetitionOpenSince[Month/Year] - gives the approximate year and month of the time the nearest competitor was opened\n",
        "* #### Promo - indicates whether a store is running a promo on that day\n",
        "* #### Promo2 - Promo2 is a continuing and consecutive promotion for some stores: 0 = store is not participating, 1 = store is participating\n",
        "* #### Promo2Since[Year/Week] - describes the year and calendar week when the store started participating in Promo2\n",
        "* #### PromoInterval - describes the consecutive intervals Promo2 is started, naming the months the promotion is started anew. E.g. \"Feb,May,Aug,Nov\" means each round starts in February, May, August, November of any given year for that store\n"
      ],
      "metadata": {
        "id": "F6v_1wHtG2nS"
      }
    },
    {
      "cell_type": "markdown",
      "source": [
        "# **GitHub Link -**"
      ],
      "metadata": {
        "id": "w6K7xa23Elo4"
      }
    },
    {
      "cell_type": "markdown",
      "source": [
        "https://github.com/nitin7478/Retail-Sales-Prediction-Capstone-ML-Final"
      ],
      "metadata": {
        "id": "h1o69JH3Eqqn"
      }
    },
    {
      "cell_type": "markdown",
      "source": [
        "# **Problem Statement**\n"
      ],
      "metadata": {
        "id": "yQaldy8SH6Dl"
      }
    },
    {
      "cell_type": "markdown",
      "source": [
        "\n",
        "\n",
        "Rossmann, a leading retail chain with thousands of stores across Europe, faces the challenge of accurately predicting daily sales for up to six weeks in advance. The current approach relies on individual store managers to forecast sales based on their unique circumstances, leading to inconsistent accuracy across stores. This variability hampers effective resource allocation, inventory management, and overall business planning.\n",
        "\n",
        "The main problem at hand is to develop robust forecasting models leveraging historical sales data for 1,115 Rossmann stores. The objective is to accurately predict the \"Sales\" column for the test set, considering various influencing factors such as promotions, competition, holidays, seasonality, and locality. Additionally, the challenge involves accounting for temporary closures of some stores for refurbishment, which can disrupt sales dynamics.\n",
        "\n",
        "The successful solution to this problem will empower Rossmann with reliable sales forecasts, enabling them to optimize operations, make informed decisions, and enhance business performance across their extensive retail network."
      ],
      "metadata": {
        "id": "DpeJGUA3kjGy"
      }
    },
    {
      "cell_type": "markdown",
      "source": [
        "# **General Guidelines** : -  "
      ],
      "metadata": {
        "id": "mDgbUHAGgjLW"
      }
    },
    {
      "cell_type": "markdown",
      "source": [
        "1.   Well-structured, formatted, and commented code is required.\n",
        "2.   Exception Handling, Production Grade Code & Deployment Ready Code will be a plus. Those students will be awarded some additional credits.\n",
        "     \n",
        "     The additional credits will have advantages over other students during Star Student selection.\n",
        "       \n",
        "             [ Note: - Deployment Ready Code is defined as, the whole .ipynb notebook should be executable in one go\n",
        "                       without a single error logged. ]\n",
        "\n",
        "3.   Each and every logic should have proper comments.\n",
        "4. You may add as many number of charts you want. Make Sure for each and every chart the following format should be answered.\n",
        "        \n",
        "\n",
        "```\n",
        "# Chart visualization code\n",
        "```\n",
        "            \n",
        "\n",
        "*   Why did you pick the specific chart?\n",
        "*   What is/are the insight(s) found from the chart?\n",
        "* Will the gained insights help creating a positive business impact?\n",
        "Are there any insights that lead to negative growth? Justify with specific reason.\n",
        "\n",
        "5. You have to create at least 15 logical & meaningful charts having important insights.\n",
        "\n",
        "\n",
        "[ Hints : - Do the Vizualization in  a structured way while following \"UBM\" Rule.\n",
        "\n",
        "U - Univariate Analysis,\n",
        "\n",
        "B - Bivariate Analysis (Numerical - Categorical, Numerical - Numerical, Categorical - Categorical)\n",
        "\n",
        "M - Multivariate Analysis\n",
        " ]\n",
        "\n",
        "\n",
        "\n",
        "\n",
        "\n",
        "6. You may add more ml algorithms for model creation. Make sure for each and every algorithm, the following format should be answered.\n",
        "\n",
        "\n",
        "*   Explain the ML Model used and it's performance using Evaluation metric Score Chart.\n",
        "\n",
        "\n",
        "*   Cross- Validation & Hyperparameter Tuning\n",
        "\n",
        "*   Have you seen any improvement? Note down the improvement with updates Evaluation metric Score Chart.\n",
        "\n",
        "*   Explain each evaluation metric's indication towards business and the business impact pf the ML model used.\n",
        "\n",
        "\n",
        "\n",
        "\n",
        "\n",
        "\n",
        "\n",
        "\n",
        "\n",
        "\n",
        "\n",
        "\n",
        "\n",
        "\n",
        "\n",
        "\n",
        "\n",
        "\n"
      ],
      "metadata": {
        "id": "ZrxVaUj-hHfC"
      }
    },
    {
      "cell_type": "markdown",
      "source": [
        "# ***Let's Begin !***"
      ],
      "metadata": {
        "id": "O_i_v8NEhb9l"
      }
    },
    {
      "cell_type": "markdown",
      "source": [
        "## ***1. Know Your Data***"
      ],
      "metadata": {
        "id": "HhfV-JJviCcP"
      }
    },
    {
      "cell_type": "markdown",
      "source": [
        "### Import Libraries"
      ],
      "metadata": {
        "id": "Y3lxredqlCYt"
      }
    },
    {
      "cell_type": "code",
      "source": [
        "# Import Libraries\n",
        "#importing libraries\n",
        "\n",
        "import pandas as pd\n",
        "import numpy as np\n",
        "import matplotlib.pyplot as plt\n",
        "import seaborn as sns\n",
        "import datetime\n",
        "import missingno as msno\n",
        "import matplotlib\n",
        "import matplotlib.pylab as pylab\n",
        "import missingno as msno\n",
        "%matplotlib inline\n",
        "matplotlib.style.use('ggplot')\n",
        "sns.set_style('white')\n",
        "pylab.rcParams['figure.figsize'] = 8,6\n",
        "from scipy.stats import zscore\n",
        "import math\n",
        "import statsmodels.api as sm\n",
        "from sklearn.linear_model import LinearRegression\n",
        "from sklearn.metrics import mean_squared_error\n",
        "from math import sqrt\n",
        "from sklearn.linear_model import BayesianRidge\n",
        "from sklearn.linear_model import LassoLars\n",
        "from sklearn.tree import DecisionTreeRegressor\n",
        "from sklearn.ensemble import RandomForestRegressor\n",
        "from sklearn.neighbors import KNeighborsRegressor\n",
        "from sklearn.model_selection import RandomizedSearchCV\n",
        "from sklearn.metrics import mean_squared_error\n",
        "from sklearn.metrics import r2_score\n",
        "from sklearn.preprocessing import MinMaxScaler\n",
        "from sklearn.model_selection import GridSearchCV\n",
        "from sklearn.metrics import mean_absolute_percentage_error\n",
        "from sklearn.linear_model import LogisticRegression, Ridge, Lasso\n",
        "from sklearn.preprocessing import PolynomialFeatures\n",
        "from sklearn.pipeline import make_pipeline\n",
        "import plotly.express as px\n",
        "import pandas as pd\n",
        "from sklearn.model_selection import train_test_split\n",
        "from sklearn.preprocessing import StandardScaler\n",
        "from sklearn.decomposition import PCA\n",
        "from imblearn.over_sampling import SMOTE\n",
        "from sklearn.impute import SimpleImputer"
      ],
      "metadata": {
        "id": "M8Vqi-pPk-HR"
      },
      "execution_count": null,
      "outputs": []
    },
    {
      "cell_type": "markdown",
      "source": [
        "### Dataset Loading"
      ],
      "metadata": {
        "id": "3RnN4peoiCZX"
      }
    },
    {
      "cell_type": "code",
      "source": [
        "# Load Dataset\n",
        "#Loading Rossman Dataset\n",
        "url = \"https://github.com/nitin7478/Retail-Sales-Prediction-Capstone-ML-Final/raw/main/rossman.zip\"\n",
        "url_store = \"https://github.com/nitin7478/Retail-Sales-Prediction-Capstone-ML-Final/raw/main/store.csv\"\n",
        "rossman_df= pd.read_csv(url, low_memory= False)\n",
        "store_df=pd.read_csv(url_store, low_memory=False)"
      ],
      "metadata": {
        "id": "4CkvbW_SlZ_R"
      },
      "execution_count": null,
      "outputs": []
    },
    {
      "cell_type": "markdown",
      "source": [
        "### Dataset First View"
      ],
      "metadata": {
        "id": "x71ZqKXriCWQ"
      }
    },
    {
      "cell_type": "code",
      "source": [
        "# Dataset First Look\n",
        "rossman_df.head()"
      ],
      "metadata": {
        "id": "LWNFOSvLl09H"
      },
      "execution_count": null,
      "outputs": []
    },
    {
      "cell_type": "code",
      "source": [
        "store_df.head()"
      ],
      "metadata": {
        "id": "wsAB07MDbUN0"
      },
      "execution_count": null,
      "outputs": []
    },
    {
      "cell_type": "markdown",
      "source": [
        "### Dataset Rows & Columns count"
      ],
      "metadata": {
        "id": "7hBIi_osiCS2"
      }
    },
    {
      "cell_type": "code",
      "source": [
        "# Dataset Rows & Columns count\n",
        "rossman_df.shape"
      ],
      "metadata": {
        "id": "Kllu7SJgmLij"
      },
      "execution_count": null,
      "outputs": []
    },
    {
      "cell_type": "code",
      "source": [
        "rossman_df.columns"
      ],
      "metadata": {
        "id": "GD7yr3bXbmjC"
      },
      "execution_count": null,
      "outputs": []
    },
    {
      "cell_type": "code",
      "source": [
        "store_df.shape"
      ],
      "metadata": {
        "id": "M5EWXJxHbjOJ"
      },
      "execution_count": null,
      "outputs": []
    },
    {
      "cell_type": "code",
      "source": [
        "store_df.columns"
      ],
      "metadata": {
        "id": "yGjtiP4mbo2U"
      },
      "execution_count": null,
      "outputs": []
    },
    {
      "cell_type": "markdown",
      "source": [
        "### Dataset Information"
      ],
      "metadata": {
        "id": "JlHwYmJAmNHm"
      }
    },
    {
      "cell_type": "code",
      "source": [
        "# Dataset Info\n",
        "rossman_df.info()"
      ],
      "metadata": {
        "id": "e9hRXRi6meOf"
      },
      "execution_count": null,
      "outputs": []
    },
    {
      "cell_type": "code",
      "source": [
        "store_df.info()"
      ],
      "metadata": {
        "id": "bmfoI4qFcXr5"
      },
      "execution_count": null,
      "outputs": []
    },
    {
      "cell_type": "markdown",
      "source": [
        "#### Duplicate Values"
      ],
      "metadata": {
        "id": "35m5QtbWiB9F"
      }
    },
    {
      "cell_type": "code",
      "source": [
        "# Dataset Duplicate Value Count\n",
        "rossman_df[rossman_df.duplicated()]"
      ],
      "metadata": {
        "id": "1sLdpKYkmox0"
      },
      "execution_count": null,
      "outputs": []
    },
    {
      "cell_type": "code",
      "source": [
        "len(rossman_df[rossman_df.duplicated()])"
      ],
      "metadata": {
        "id": "Z7VK-ENQdQQr"
      },
      "execution_count": null,
      "outputs": []
    },
    {
      "cell_type": "code",
      "source": [
        "# Dataset Duplicate Value Count\n",
        "store_df[store_df.duplicated()]"
      ],
      "metadata": {
        "id": "Y2ReZ8vQdXgA"
      },
      "execution_count": null,
      "outputs": []
    },
    {
      "cell_type": "code",
      "source": [
        "len(store_df[store_df.duplicated()])"
      ],
      "metadata": {
        "id": "eDzKmSODeNgE"
      },
      "execution_count": null,
      "outputs": []
    },
    {
      "cell_type": "markdown",
      "source": [
        "#### Missing Values/Null Values"
      ],
      "metadata": {
        "id": "PoPl-ycgm1ru"
      }
    },
    {
      "cell_type": "code",
      "source": [
        "# Missing Values/Null Values Count\n",
        "rossman_df.isnull().sum()"
      ],
      "metadata": {
        "id": "GgHWkxvamxVg"
      },
      "execution_count": null,
      "outputs": []
    },
    {
      "cell_type": "code",
      "source": [
        "store_df.isnull().sum()"
      ],
      "metadata": {
        "id": "qeiJTQm_eYaI"
      },
      "execution_count": null,
      "outputs": []
    },
    {
      "cell_type": "code",
      "source": [
        "# Visualizing the missing values\n",
        "missing_values = store_df.isnull().sum() / len(store_df) * 100\n",
        "# Drop columns with no missing values\n",
        "\n",
        "missing_df  = pd.DataFrame({'column':missing_values.index, 'values':missing_values.values})\n",
        "missing_df = missing_df.sort_values(by='values', ascending=False)\n",
        "fig = px.bar(missing_df , x='column', y='values',\n",
        "             labels={'column':'Feature', 'values':'Percentage of Missing Values in %'},\n",
        "             title='Percentage of Missing Values by Column (Descending Order)')\n",
        "fig.show()\n"
      ],
      "metadata": {
        "id": "3q5wnI3om9sJ"
      },
      "execution_count": null,
      "outputs": []
    },
    {
      "cell_type": "markdown",
      "source": [
        "### What did you know about your dataset?"
      ],
      "metadata": {
        "id": "H0kj-8xxnORC"
      }
    },
    {
      "cell_type": "markdown",
      "source": [
        "1. Rossman df consists of 1017209 rows and 9 features.\n",
        "2. Stores df consists of 1115 rows and 10 features\n",
        "3. Rossman df has 7 numerical columns and 2 categorical columns\n",
        "4. Stores df has 7 numerical and 2 categorical columns\n",
        "5. Rossman df and Stores df has no duplicated values\n",
        "6. Rossman df has no missing values.\n",
        "7. Stores df has 5 columns with more than 30% missing values."
      ],
      "metadata": {
        "id": "gfoNAAC-nUe_"
      }
    },
    {
      "cell_type": "markdown",
      "source": [
        "## ***2. Understanding Your Variables***"
      ],
      "metadata": {
        "id": "nA9Y7ga8ng1Z"
      }
    },
    {
      "cell_type": "code",
      "source": [
        "# Dataset Columns\n",
        "rossman_df.columns"
      ],
      "metadata": {
        "id": "j7xfkqrt5Ag5"
      },
      "execution_count": null,
      "outputs": []
    },
    {
      "cell_type": "code",
      "source": [
        "# Dataset Describe\n",
        "store_df.columns"
      ],
      "metadata": {
        "id": "DnOaZdaE5Q5t"
      },
      "execution_count": null,
      "outputs": []
    },
    {
      "cell_type": "code",
      "source": [
        "rossman_df.describe().round(2)"
      ],
      "metadata": {
        "id": "b3xQJmkDj0xe"
      },
      "execution_count": null,
      "outputs": []
    },
    {
      "cell_type": "code",
      "source": [
        "store_df.describe().round(2)"
      ],
      "metadata": {
        "id": "KMNIfGrpj-MH"
      },
      "execution_count": null,
      "outputs": []
    },
    {
      "cell_type": "markdown",
      "source": [
        "### Variables Description"
      ],
      "metadata": {
        "id": "PBTbrJXOngz2"
      }
    },
    {
      "cell_type": "markdown",
      "source": [
        "\n",
        "1. rossman_df\n",
        "* have same count for each variable, which sayes there are no missing values.<br>\n",
        "* mean of store number is approx 558 with standard deviation of around 322.<br>\n",
        "* average no of customers per day per store is around 633 , with standard deviation of 464.<br>\n",
        "* average daily sales per store is around 5774 , with standard deviation around 3850.<br>\n",
        "* about 38%  of the days have promotions with, std 0.49.\n",
        "* the 25th percentile for sales is 3727, indicating that 25% of the days have sales below this value.\n",
        "* similarly the 75th percentile for sales is 7856, indicating that 75% of the days have sales below this value\n",
        "2. store_df\n",
        "* the average competition distance is approx 5405, with std 7664\n",
        "* approx 51% stores are in promo2, with std 0.50\n",
        "* promo2 minimum value in 0 , some store not in promo2 , where maximum value is 1 , indicating some stores are in promo2.\n",
        "* stores in promo2, the average promo2 since week is around 23.60 and avg promo2 since year is approx 2011.76\n",
        "* count shows missing valuesin promo2 since week and year, ompetition opening month and year"
      ],
      "metadata": {
        "id": "aJV4KIxSnxay"
      }
    },
    {
      "cell_type": "markdown",
      "source": [
        "### Check Unique Values for each variable."
      ],
      "metadata": {
        "id": "u3PMJOP6ngxN"
      }
    },
    {
      "cell_type": "code",
      "source": [
        "# Check Unique Values for each variable.\n",
        "for column in rossman_df.columns:\n",
        "  print(f\"unique values counts for column    : {column} :{rossman_df[column].nunique()}\")\n",
        "  if rossman_df[column].nunique()<=7: # only print is uqunique values are less than 7\n",
        "    print(f\"unique  values for column : {column} : {rossman_df[column].unique()}\")"
      ],
      "metadata": {
        "id": "zms12Yq5n-jE"
      },
      "execution_count": null,
      "outputs": []
    },
    {
      "cell_type": "code",
      "source": [
        "for column in store_df.columns:\n",
        "  print(f\"unique values for column    : {column} :{store_df[column].nunique()}\")\n",
        "  if store_df[column].nunique()<=7: # only print is uqunique values are less than 7\n",
        "    print(f\"unique  values for column : {column} : {store_df[column].unique()}\")"
      ],
      "metadata": {
        "id": "3lKtwObwp9rt"
      },
      "execution_count": null,
      "outputs": []
    },
    {
      "cell_type": "code",
      "source": [
        "print(rossman_df['Date'].min(),'initial')\n",
        "print(rossman_df['Date'].max(),'final')\n"
      ],
      "metadata": {
        "id": "X1Shs5cYq8Ap"
      },
      "execution_count": null,
      "outputs": []
    },
    {
      "cell_type": "markdown",
      "source": [
        "This tells us we have a data of almost 3 years.\n"
      ],
      "metadata": {
        "id": "4PWjRoSYrBlh"
      }
    },
    {
      "cell_type": "markdown",
      "source": [
        "## 3. ***Data Wrangling***"
      ],
      "metadata": {
        "id": "dauF4eBmngu3"
      }
    },
    {
      "cell_type": "markdown",
      "source": [
        "### Data Wrangling Code"
      ],
      "metadata": {
        "id": "bKJF3rekwFvQ"
      }
    },
    {
      "cell_type": "code",
      "source": [
        "# Write your code to make your dataset analysis ready.\n",
        "rossman_df['Date']=pd.to_datetime(rossman_df['Date'])\n",
        "rossman_df['Year'] = rossman_df['Date'].apply(lambda x: x.year)\n",
        "rossman_df['Month'] = rossman_df['Date'].apply(lambda x: x.month)\n",
        "rossman_df['Day'] = rossman_df['Date'].apply(lambda x: x.day)\n",
        "rossman_df['WeekOfYear'] = rossman_df['Date'].apply(lambda x: x.weekofyear)\n",
        "rossman_df.sort_values(by=['Date','Store'],inplace=True,ascending=[False,True])\n",
        "rossman_df.head(2)"
      ],
      "metadata": {
        "id": "wk-9a2fpoLcV"
      },
      "execution_count": null,
      "outputs": []
    },
    {
      "cell_type": "markdown",
      "source": [
        "### What all manipulations have you done and insights you found?"
      ],
      "metadata": {
        "id": "MSa1f5Uengrz"
      }
    },
    {
      "cell_type": "markdown",
      "source": [
        "Answer Here.\n",
        "1. We have coverted date column to datetime object and sorted by dates."
      ],
      "metadata": {
        "id": "LbyXE7I1olp8"
      }
    },
    {
      "cell_type": "markdown",
      "source": [
        "## ***4. Data Vizualization, Storytelling & Experimenting with charts : Understand the relationships between variables***"
      ],
      "metadata": {
        "id": "GF8Ens_Soomf"
      }
    },
    {
      "cell_type": "markdown",
      "source": [
        "#### Chart - 1"
      ],
      "metadata": {
        "id": "0wOQAZs5pc--"
      }
    },
    {
      "cell_type": "code",
      "source": [
        "plt.figure(figsize=(10,10))\n",
        "df_corr = rossman_df[rossman_df.columns].corr()\n",
        "mask = df_corr.where(abs(df_corr)>=.70).isna()\n",
        "\n",
        "sns.heatmap(df_corr ,mask = mask , annot = True , cmap ='icefire', linewidth = 0.2, linecolor = 'grey').set_facecolor('white')"
      ],
      "metadata": {
        "id": "7v_ESjsspbW7"
      },
      "execution_count": null,
      "outputs": []
    },
    {
      "cell_type": "markdown",
      "source": [
        "##### 1. Why did you pick the specific chart?"
      ],
      "metadata": {
        "id": "K5QZ13OEpz2H"
      }
    },
    {
      "cell_type": "markdown",
      "source": [
        "We are using heatmap to check linear relationship, that is colinearity between valriables.\n",
        "we are using 70% as threshold to show collinearity , we dont worry about less 70% collinear varibles."
      ],
      "metadata": {
        "id": "XESiWehPqBRc"
      }
    },
    {
      "cell_type": "markdown",
      "source": [
        "##### 2. What is/are the insight(s) found from the chart?"
      ],
      "metadata": {
        "id": "lQ7QKXXCp7Bj"
      }
    },
    {
      "cell_type": "markdown",
      "source": [
        "Answer Here\n",
        "Customers and sales are positive collinear, which shows as customers are increasing , sales also increasing.<br>\n",
        "Month and week of year are very much collinear<br>"
      ],
      "metadata": {
        "id": "C_j1G7yiqdRP"
      }
    },
    {
      "cell_type": "markdown",
      "source": [
        "##### 3. Will the gained insights help creating a positive business impact?\n",
        "Are there any insights that lead to negative growth? Justify with specific reason."
      ],
      "metadata": {
        "id": "448CDAPjqfQr"
      }
    },
    {
      "cell_type": "markdown",
      "source": [
        "Answer Here\n",
        "Yes, Management can focus on customers to get highers sales, which are very collniear."
      ],
      "metadata": {
        "id": "3cspy4FjqxJW"
      }
    },
    {
      "cell_type": "markdown",
      "source": [
        "#### Chart - 2"
      ],
      "metadata": {
        "id": "KSlN3yHqYklG"
      }
    },
    {
      "cell_type": "code",
      "source": [
        "# Chart - 2 visualization code\n",
        "custom_palette = sns.color_palette(\"Set2\")\n",
        "sns.countplot(x='DayOfWeek',hue='Open',data=rossman_df, palette=custom_palette )\n",
        "plt.legend(title=\"Store Status\", labels=['Closed', 'Open'])"
      ],
      "metadata": {
        "id": "R4YgtaqtYklH"
      },
      "execution_count": null,
      "outputs": []
    },
    {
      "cell_type": "markdown",
      "source": [
        "##### 1. Why did you pick the specific chart?"
      ],
      "metadata": {
        "id": "t6dVpIINYklI"
      }
    },
    {
      "cell_type": "markdown",
      "source": [
        "Answer Here.\n",
        "We have choosed this chart to check, on which day most of the stores are closed."
      ],
      "metadata": {
        "id": "5aaW0BYyYklI"
      }
    },
    {
      "cell_type": "markdown",
      "source": [
        "##### 2. What is/are the insight(s) found from the chart?"
      ],
      "metadata": {
        "id": "ijmpgYnKYklI"
      }
    },
    {
      "cell_type": "markdown",
      "source": [
        "Answer Here\n",
        "As we can see that in the graph given below that Stores mainly closed on Sunday"
      ],
      "metadata": {
        "id": "PSx9atu2YklI"
      }
    },
    {
      "cell_type": "markdown",
      "source": [
        "##### 3. Will the gained insights help creating a positive business impact?\n",
        "Are there any insights that lead to negative growth? Justify with specific reason."
      ],
      "metadata": {
        "id": "-JiQyfWJYklI"
      }
    },
    {
      "cell_type": "markdown",
      "source": [
        "#### Chart - 3\n"
      ],
      "metadata": {
        "id": "EM7whBJCYoAo"
      }
    },
    {
      "cell_type": "code",
      "source": [
        "# Chart - 3 visualization code\n",
        "custom_palette = sns.color_palette(\"Set2\")\n",
        "Promo_sales = pd.DataFrame(rossman_df.groupby('Promo').agg({'Sales':'mean'}))\n",
        "sns.barplot(x=Promo_sales.index, y = Promo_sales['Sales'] , palette = custom_palette)\n",
        "plt.xlabel(\"Promotion (0 = No, 1 = Yes)\")\n",
        "plt.ylabel(\"Mean Sales\")"
      ],
      "metadata": {
        "id": "t6GMdE67YoAp"
      },
      "execution_count": null,
      "outputs": []
    },
    {
      "cell_type": "markdown",
      "source": [
        "##### 1. Why did you pick the specific chart?"
      ],
      "metadata": {
        "id": "fge-S5ZAYoAp"
      }
    },
    {
      "cell_type": "markdown",
      "source": [
        "\n",
        "To know what is the impact of the promotions to the sales."
      ],
      "metadata": {
        "id": "5dBItgRVYoAp"
      }
    },
    {
      "cell_type": "markdown",
      "source": [
        "##### 2. What is/are the insight(s) found from the chart?"
      ],
      "metadata": {
        "id": "85gYPyotYoAp"
      }
    },
    {
      "cell_type": "markdown",
      "source": [
        "Sales are nearly doubled when promotions are running.\n"
      ],
      "metadata": {
        "id": "4jstXR6OYoAp"
      }
    },
    {
      "cell_type": "markdown",
      "source": [
        "##### 3. Will the gained insights help creating a positive business impact?\n",
        "Are there any insights that lead to negative growth? Justify with specific reason."
      ],
      "metadata": {
        "id": "RoGjAbkUYoAp"
      }
    },
    {
      "cell_type": "markdown",
      "source": [
        "Promotion can lead to positive growth. Promotions can be managed wisely to ensure growth in sales"
      ],
      "metadata": {
        "id": "zfJ8IqMcYoAp"
      }
    },
    {
      "cell_type": "markdown",
      "source": [
        "#### Chart - 4"
      ],
      "metadata": {
        "id": "4Of9eVA-YrdM"
      }
    },
    {
      "cell_type": "code",
      "source": [
        "custom_palette = sns.color_palette(\"Set2\")\n",
        "sns.catplot(x=\"Month\", y=\"Sales\", data=rossman_df, kind=\"point\", aspect=1.5, height=6.5, palette= custom_palette)"
      ],
      "metadata": {
        "id": "irlUoxc8YrdO"
      },
      "execution_count": null,
      "outputs": []
    },
    {
      "cell_type": "markdown",
      "source": [
        "##### 1. Why did you pick the specific chart?"
      ],
      "metadata": {
        "id": "iky9q4vBYrdO"
      }
    },
    {
      "cell_type": "markdown",
      "source": [
        "To know impact of the sales by months. Does there any seasonality for sales in particular months."
      ],
      "metadata": {
        "id": "aJRCwT6DYrdO"
      }
    },
    {
      "cell_type": "markdown",
      "source": [
        "##### 2. What is/are the insight(s) found from the chart?"
      ],
      "metadata": {
        "id": "F6T5p64dYrdO"
      }
    },
    {
      "cell_type": "markdown",
      "source": [
        "As We can see that In the month of November and Specially in December Sales is increasing Rapidly every year on the christmas eve."
      ],
      "metadata": {
        "id": "Xx8WAJvtYrdO"
      }
    },
    {
      "cell_type": "markdown",
      "source": [
        "##### 3. Will the gained insights help creating a positive business impact?\n",
        "Are there any insights that lead to negative growth? Justify with specific reason."
      ],
      "metadata": {
        "id": "y-Ehk30pYrdP"
      }
    },
    {
      "cell_type": "markdown",
      "source": [
        "It can help in Optimization of staff allocation , inventory managermenet. Merketing and promotions\n"
      ],
      "metadata": {
        "id": "jLNxxz7MYrdP"
      }
    },
    {
      "cell_type": "markdown",
      "source": [
        "#### Chart - 5"
      ],
      "metadata": {
        "id": "bamQiAODYuh1"
      }
    },
    {
      "cell_type": "code",
      "source": [
        "labels = 'Not-Affected' , 'Affected'\n",
        "sizes = rossman_df.SchoolHoliday.value_counts()\n",
        "colors = ['pink', 'silver']\n",
        "explode = (0.1, 0.0)\n",
        "plt.pie(sizes, explode=explode, labels=labels, colors=colors,\n",
        "        autopct='%1.1f%%', shadow=True, startangle=180)\n",
        "plt.axis('equal')\n",
        "plt.title(\"Sales Affected by Schoolholiday or Not ?\",fontsize=20)\n",
        "plt.plot()\n",
        "fig=plt.gcf()\n",
        "fig.set_size_inches(6,6)\n",
        "plt.show()\n"
      ],
      "metadata": {
        "id": "TIJwrbroYuh3"
      },
      "execution_count": null,
      "outputs": []
    },
    {
      "cell_type": "markdown",
      "source": [
        "##### 1. Why did you pick the specific chart?"
      ],
      "metadata": {
        "id": "QHF8YVU7Yuh3"
      }
    },
    {
      "cell_type": "markdown",
      "source": [
        "To check whether sales are affected to Schoolholiday or Not. Which can help to do better decisions on holidays of stores"
      ],
      "metadata": {
        "id": "dcxuIMRPYuh3"
      }
    },
    {
      "cell_type": "markdown",
      "source": [
        "##### 2. What is/are the insight(s) found from the chart?"
      ],
      "metadata": {
        "id": "GwzvFGzlYuh3"
      }
    },
    {
      "cell_type": "markdown",
      "source": [
        "As we can see in the Piechart Sales affected by School Holiday is 18% and Mainly Sales aren't afffected by School Holiday"
      ],
      "metadata": {
        "id": "uyqkiB8YYuh3"
      }
    },
    {
      "cell_type": "markdown",
      "source": [
        "##### 3. Will the gained insights help creating a positive business impact?\n",
        "Are there any insights that lead to negative growth? Justify with specific reason."
      ],
      "metadata": {
        "id": "qYpmQ266Yuh3"
      }
    },
    {
      "cell_type": "markdown",
      "source": [
        "School holidays are not leading to negative growth."
      ],
      "metadata": {
        "id": "_WtzZ_hCYuh4"
      }
    },
    {
      "cell_type": "markdown",
      "source": [
        "#### Chart - 6"
      ],
      "metadata": {
        "id": "OH-pJp9IphqM"
      }
    },
    {
      "cell_type": "code",
      "source": [
        "rossman_df[\"StateHoliday\"] = rossman_df[\"StateHoliday\"].map({0: 0, \"0\": 0, \"a\": 1, \"b\": 1, \"c\": 1})"
      ],
      "metadata": {
        "id": "oYciv757gaI-"
      },
      "execution_count": null,
      "outputs": []
    },
    {
      "cell_type": "code",
      "source": [
        "labels = 'Not-Affected' , 'Affected'\n",
        "sizes = rossman_df.StateHoliday.value_counts()\n",
        "colors = ['pink','silver']\n",
        "explode = (0.1, 0.0)\n",
        "plt.pie(sizes, explode=explode, labels=labels, colors=colors,\n",
        "        autopct='%1.2f%%' , shadow=True, startangle=180)\n",
        "plt.axis('equal')\n",
        "plt.title(\"Sales Affected by State holiday or Not ?\",fontsize=20)\n",
        "plt.plot()\n",
        "fig=plt.gcf()\n",
        "fig.set_size_inches(6,6)\n",
        "plt.show()"
      ],
      "metadata": {
        "id": "kuRf4wtuphqN"
      },
      "execution_count": null,
      "outputs": []
    },
    {
      "cell_type": "markdown",
      "source": [
        "##### 1. Why did you pick the specific chart?"
      ],
      "metadata": {
        "id": "bbFf2-_FphqN"
      }
    },
    {
      "cell_type": "markdown",
      "source": [
        "To check whether State Holidays are affecting sales or not. Which can help to take decisions on holiday of stores."
      ],
      "metadata": {
        "id": "loh7H2nzphqN"
      }
    },
    {
      "cell_type": "markdown",
      "source": [
        "##### 2. What is/are the insight(s) found from the chart?"
      ],
      "metadata": {
        "id": "_ouA3fa0phqN"
      }
    },
    {
      "cell_type": "markdown",
      "source": [
        "As we can see in the Piechart Sales affected by State Holiday is only 3% means Sales aren't afffected by State Holiday"
      ],
      "metadata": {
        "id": "VECbqPI7phqN"
      }
    },
    {
      "cell_type": "markdown",
      "source": [
        "##### 3. Will the gained insights help creating a positive business impact?\n",
        "Are there any insights that lead to negative growth? Justify with specific reason."
      ],
      "metadata": {
        "id": "Seke61FWphqN"
      }
    },
    {
      "cell_type": "markdown",
      "source": [
        "Sales are not much affected by state holidays. Which states not to worry about state holidays."
      ],
      "metadata": {
        "id": "DW4_bGpfphqN"
      }
    },
    {
      "cell_type": "code",
      "source": [
        "rossman_df.drop('StateHoliday',inplace=True,axis=1)"
      ],
      "metadata": {
        "id": "BLOSQGE6g6Ot"
      },
      "execution_count": null,
      "outputs": []
    },
    {
      "cell_type": "markdown",
      "source": [
        "#### Chart - 7"
      ],
      "metadata": {
        "id": "PIIx-8_IphqN"
      }
    },
    {
      "cell_type": "code",
      "source": [
        "#distribution of sales\n",
        "fig, ax = plt.subplots()\n",
        "fig.set_size_inches(11, 7)\n",
        "sns.histplot(rossman_df['Sales'], kde = False,bins=40);"
      ],
      "metadata": {
        "id": "lqAIGUfyphqO"
      },
      "execution_count": null,
      "outputs": []
    },
    {
      "cell_type": "markdown",
      "source": [
        "##### 1. Why did you pick the specific chart?"
      ],
      "metadata": {
        "id": "t27r6nlMphqO"
      }
    },
    {
      "cell_type": "markdown",
      "source": [
        "To check what is the distribution of sales."
      ],
      "metadata": {
        "id": "iv6ro40sphqO"
      }
    },
    {
      "cell_type": "markdown",
      "source": [
        "##### 2. What is/are the insight(s) found from the chart?"
      ],
      "metadata": {
        "id": "r2jJGEOYphqO"
      }
    },
    {
      "cell_type": "markdown",
      "source": [
        "Histogram Representation of Sales. Here 0 is showing because most of the time store was closed."
      ],
      "metadata": {
        "id": "Po6ZPi4hphqO"
      }
    },
    {
      "cell_type": "markdown",
      "source": [
        "##### 3. Will the gained insights help creating a positive business impact?\n",
        "Are there any insights that lead to negative growth? Justify with specific reason."
      ],
      "metadata": {
        "id": "b0JNsNcRphqO"
      }
    },
    {
      "cell_type": "markdown",
      "source": [
        "Answer Here"
      ],
      "metadata": {
        "id": "xvSq8iUTphqO"
      }
    },
    {
      "cell_type": "markdown",
      "source": [
        "#### Chart - 8"
      ],
      "metadata": {
        "id": "BZR9WyysphqO"
      }
    },
    {
      "cell_type": "code",
      "source": [
        "#linear relation between sales and customers\n",
        "sns.regplot(x='Sales', y='Customers', data=rossman_df, scatter_kws={'color': 'blue'}, line_kws={'color': 'pink'})"
      ],
      "metadata": {
        "id": "TdPTWpAVphqO"
      },
      "execution_count": null,
      "outputs": []
    },
    {
      "cell_type": "markdown",
      "source": [
        "##### 1. Why did you pick the specific chart?"
      ],
      "metadata": {
        "id": "jj7wYXLtphqO"
      }
    },
    {
      "cell_type": "markdown",
      "source": [
        "To check the relationship of sales and customers."
      ],
      "metadata": {
        "id": "Ob8u6rCTphqO"
      }
    },
    {
      "cell_type": "markdown",
      "source": [
        "##### 2. What is/are the insight(s) found from the chart?"
      ],
      "metadata": {
        "id": "eZrbJ2SmphqO"
      }
    },
    {
      "cell_type": "markdown",
      "source": [
        "Sales are highly positive correlated to customers. Which means sales are increasing as customers are increasing and vice versa."
      ],
      "metadata": {
        "id": "mZtgC_hjphqO"
      }
    },
    {
      "cell_type": "markdown",
      "source": [
        "##### 3. Will the gained insights help creating a positive business impact?\n",
        "Are there any insights that lead to negative growth? Justify with specific reason."
      ],
      "metadata": {
        "id": "rFu4xreNphqO"
      }
    },
    {
      "cell_type": "markdown",
      "source": [
        "Attract customers to grow sales."
      ],
      "metadata": {
        "id": "ey_0qi68phqO"
      }
    },
    {
      "cell_type": "markdown",
      "source": [
        "#### Chart - 9"
      ],
      "metadata": {
        "id": "YJ55k-q6phqO"
      }
    },
    {
      "cell_type": "code",
      "source": [
        "labels = 'a' , 'b' , 'c' , 'd'\n",
        "sizes = store_df.StoreType.value_counts()\n",
        "colors = ['green', 'cyan' , 'orange' , 'pink']\n",
        "explode = (0.1, 0.0 , 0.15 , 0.0)\n",
        "plt.pie(sizes, explode=explode, labels=labels, colors=colors,\n",
        "        autopct='%1.1f%%', shadow=True, startangle=180)\n",
        "plt.axis('equal')\n",
        "plt.title(\"Distribution of different StoreTypes\")\n",
        "plt.plot()\n",
        "fig=plt.gcf()\n",
        "fig.set_size_inches(6,6)\n",
        "plt.show()\n"
      ],
      "metadata": {
        "id": "B2aS4O1ophqO"
      },
      "execution_count": null,
      "outputs": []
    },
    {
      "cell_type": "markdown",
      "source": [
        "##### 1. Why did you pick the specific chart?"
      ],
      "metadata": {
        "id": "gCFgpxoyphqP"
      }
    },
    {
      "cell_type": "markdown",
      "source": [
        "To check the proportion of store types we aare using pie chart."
      ],
      "metadata": {
        "id": "TVxDimi2phqP"
      }
    },
    {
      "cell_type": "markdown",
      "source": [
        "##### 2. What is/are the insight(s) found from the chart?"
      ],
      "metadata": {
        "id": "OVtJsKN_phqQ"
      }
    },
    {
      "cell_type": "markdown",
      "source": [
        "More than half stores types are type a stores. type d are very less stores"
      ],
      "metadata": {
        "id": "ngGi97qjphqQ"
      }
    },
    {
      "cell_type": "markdown",
      "source": [
        "##### 3. Will the gained insights help creating a positive business impact?\n",
        "Are there any insights that lead to negative growth? Justify with specific reason."
      ],
      "metadata": {
        "id": "lssrdh5qphqQ"
      }
    },
    {
      "cell_type": "markdown",
      "source": [
        "It helps to identify where to give most of the attention, by looking at store type, by management team."
      ],
      "metadata": {
        "id": "tBpY5ekJphqQ"
      }
    },
    {
      "cell_type": "markdown",
      "source": [
        "#### Chart - 10"
      ],
      "metadata": {
        "id": "U2RJ9gkRphqQ"
      }
    },
    {
      "cell_type": "code",
      "source": [
        "sns.histplot(store_df.CompetitionDistance.dropna(), kde=True)\n",
        "plt.title(\"Distributin of Store Competition Distance\")"
      ],
      "metadata": {
        "id": "GM7a4YP4phqQ"
      },
      "execution_count": null,
      "outputs": []
    },
    {
      "cell_type": "markdown",
      "source": [
        "##### 1. Why did you pick the specific chart?"
      ],
      "metadata": {
        "id": "1M8mcRywphqQ"
      }
    },
    {
      "cell_type": "markdown",
      "source": [
        "CompetitionDistance is distance in meters to the nearest competitor store. To check its distribution."
      ],
      "metadata": {
        "id": "8agQvks0phqQ"
      }
    },
    {
      "cell_type": "markdown",
      "source": [
        "##### 2. What is/are the insight(s) found from the chart?"
      ],
      "metadata": {
        "id": "tgIPom80phqQ"
      }
    },
    {
      "cell_type": "markdown",
      "source": [
        "Most of the stores is around 350 meters from competetion stores."
      ],
      "metadata": {
        "id": "Qp13pnNzphqQ"
      }
    },
    {
      "cell_type": "markdown",
      "source": [
        "##### 3. Will the gained insights help creating a positive business impact?\n",
        "Are there any insights that lead to negative growth? Justify with specific reason."
      ],
      "metadata": {
        "id": "JMzcOPDDphqR"
      }
    },
    {
      "cell_type": "markdown",
      "source": [
        "It can help for planning for new stores , and planning of promotions by distance from competetion stores."
      ],
      "metadata": {
        "id": "R4Ka1PC2phqR"
      }
    },
    {
      "cell_type": "markdown",
      "source": [
        "#### Chart - 11"
      ],
      "metadata": {
        "id": "x-EpHcCOp1ci"
      }
    },
    {
      "cell_type": "code",
      "source": [
        "#checking stores with their assortment type\n",
        "sns.set_style(\"whitegrid\")\n",
        "fig, ax = plt.subplots()\n",
        "fig.set_size_inches(11, 7)\n",
        "store_type=sns.countplot(x='StoreType',hue='Assortment', data=store_df,palette=custom_palette)\n",
        "\n",
        "for p in store_type.patches:\n",
        "    store_type.annotate(f'\\n{p.get_height()}', (p.get_x()+0.15, p.get_height()),ha='center', va='top', color='white', size=10)"
      ],
      "metadata": {
        "id": "mAQTIvtqp1cj"
      },
      "execution_count": null,
      "outputs": []
    },
    {
      "cell_type": "markdown",
      "source": [
        "##### 1. Why did you pick the specific chart?"
      ],
      "metadata": {
        "id": "X_VqEhTip1ck"
      }
    },
    {
      "cell_type": "markdown",
      "source": [
        "Checking stores with their assortment type, we are plotting above grouped bar plot."
      ],
      "metadata": {
        "id": "-vsMzt_np1ck"
      }
    },
    {
      "cell_type": "markdown",
      "source": [
        "##### 2. What is/are the insight(s) found from the chart?"
      ],
      "metadata": {
        "id": "8zGJKyg5p1ck"
      }
    },
    {
      "cell_type": "markdown",
      "source": [
        "\n",
        "\n",
        "Having an assortment of stores in a particular location can attract a diverse range of customers with different needs and preferences.The most selling and crowded store type is A."
      ],
      "metadata": {
        "id": "ZYdMsrqVp1ck"
      }
    },
    {
      "cell_type": "markdown",
      "source": [
        "##### 3. Will the gained insights help creating a positive business impact?\n",
        "Are there any insights that lead to negative growth? Justify with specific reason."
      ],
      "metadata": {
        "id": "PVzmfK_Ep1ck"
      }
    },
    {
      "cell_type": "markdown",
      "source": [
        "The diversity of stores within an assortment provides shoppers with a wide selection and convenience in finding what they need in one location.\n",
        "\n",
        "\n"
      ],
      "metadata": {
        "id": "druuKYZpp1ck"
      }
    },
    {
      "cell_type": "markdown",
      "source": [
        "#### Chart - 12"
      ],
      "metadata": {
        "id": "n3dbpmDWp1ck"
      }
    },
    {
      "cell_type": "code",
      "source": [
        "#plotting year vs sales\n",
        "sns.catplot(x='Year',y='Sales',data=rossman_df, height=4, aspect=4 , palette = custom_palette )"
      ],
      "metadata": {
        "id": "bwevp1tKp1ck"
      },
      "execution_count": null,
      "outputs": []
    },
    {
      "cell_type": "markdown",
      "source": [
        "##### 1. Why did you pick the specific chart?"
      ],
      "metadata": {
        "id": "ylSl6qgtp1ck"
      }
    },
    {
      "cell_type": "markdown",
      "source": [
        "To check sales by years, we are using catplot."
      ],
      "metadata": {
        "id": "m2xqNkiQp1ck"
      }
    },
    {
      "cell_type": "markdown",
      "source": [
        "##### 2. What is/are the insight(s) found from the chart?"
      ],
      "metadata": {
        "id": "ZWILFDl5p1ck"
      }
    },
    {
      "cell_type": "markdown",
      "source": [
        "We can see that there is not such significant differences in these 3 years in terms of sales"
      ],
      "metadata": {
        "id": "x-lUsV2mp1ck"
      }
    },
    {
      "cell_type": "markdown",
      "source": [
        "##### 3. Will the gained insights help creating a positive business impact?\n",
        "Are there any insights that lead to negative growth? Justify with specific reason."
      ],
      "metadata": {
        "id": "M7G43BXep1ck"
      }
    },
    {
      "cell_type": "markdown",
      "source": [
        "Sales are not increasing by since many years. Management needs to thing new stratigies for growth in revenue."
      ],
      "metadata": {
        "id": "5wwDJXsLp1cl"
      }
    },
    {
      "cell_type": "markdown",
      "source": [
        "#### ---Merging Two Datasets---EDA of Merged Dataset"
      ],
      "metadata": {
        "id": "1NggX3XEmhDo"
      }
    },
    {
      "cell_type": "code",
      "source": [
        "df = pd.merge(rossman_df, store_df, how='left', on='Store')\n",
        "df.head()"
      ],
      "metadata": {
        "id": "CFOUp0L_myhW"
      },
      "execution_count": null,
      "outputs": []
    },
    {
      "cell_type": "markdown",
      "source": [
        "#### Chart - 13"
      ],
      "metadata": {
        "id": "Ag9LCva-p1cl"
      }
    },
    {
      "cell_type": "code",
      "source": [
        "df[\"Avg_Customer_Sales\"] = df.Sales/df.Customers"
      ],
      "metadata": {
        "id": "8cv_Yc2lqw8h"
      },
      "execution_count": null,
      "outputs": []
    },
    {
      "cell_type": "code",
      "source": [
        "f, ax = plt.subplots(2, 3, figsize = (14,10))\n",
        "\n",
        "store_df.groupby(\"StoreType\")[\"Store\"].count().plot(kind = \"bar\", ax = ax[0, 0], title = \"Total StoreTypes in the Dataset\", color= custom_palette)\n",
        "df.groupby(\"StoreType\")[\"Sales\"].sum().plot(kind = \"bar\", ax = ax[0,1], title = \"Total Sales of the StoreTypes\" , color= custom_palette)\n",
        "df.groupby(\"StoreType\")[\"Customers\"].sum().plot(kind = \"bar\", ax = ax[0,2], title = \"Total nr Customers of the StoreTypes\", color= custom_palette)\n",
        "df.groupby(\"StoreType\")[\"Sales\"].mean().plot(kind = \"bar\", ax = ax[1,0], title = \"Average Sales of StoreTypes\", color= custom_palette)\n",
        "df.groupby(\"StoreType\")[\"Avg_Customer_Sales\"].mean().plot(kind = \"bar\", ax = ax[1,1], title = \"Average Spending per Customer\", color= custom_palette)\n",
        "df.groupby(\"StoreType\")[\"Customers\"].mean().plot(kind = \"bar\", ax = ax[1,2], title = \"Average Customers per StoreType\", color= custom_palette)\n",
        "\n",
        "plt.subplots_adjust(hspace = 0.3)\n",
        "plt.show()"
      ],
      "metadata": {
        "id": "EUfxeq9-p1cl"
      },
      "execution_count": null,
      "outputs": []
    },
    {
      "cell_type": "markdown",
      "source": [
        "##### 1. Why did you pick the specific chart?"
      ],
      "metadata": {
        "id": "E6MkPsBcp1cl"
      }
    },
    {
      "cell_type": "markdown",
      "source": [],
      "metadata": {
        "id": "V22bRsFWp1cl"
      }
    },
    {
      "cell_type": "markdown",
      "source": [
        "##### 2. What is/are the insight(s) found from the chart?"
      ],
      "metadata": {
        "id": "2cELzS2fp1cl"
      }
    },
    {
      "cell_type": "markdown",
      "source": [
        "The most selling and crowded store type is A. <br>\n",
        "StoreType B has the lowest Average Sales per Customer. So i think customers visit this type only for small things.<br>\n",
        "StoreTybe D had the highest buyer cart.<br>\n"
      ],
      "metadata": {
        "id": "ozQPc2_Ip1cl"
      }
    },
    {
      "cell_type": "markdown",
      "source": [
        "##### 3. Will the gained insights help creating a positive business impact?\n",
        "Are there any insights that lead to negative growth? Justify with specific reason."
      ],
      "metadata": {
        "id": "3MPXvC8up1cl"
      }
    },
    {
      "cell_type": "markdown",
      "source": [
        "Above chart helps in managing the store inventories and staffs by store types."
      ],
      "metadata": {
        "id": "GL8l1tdLp1cl"
      }
    },
    {
      "cell_type": "markdown",
      "source": [
        "#### Chart - 14 - Correlation Heatmap"
      ],
      "metadata": {
        "id": "NC_X3p0fY2L0"
      }
    },
    {
      "cell_type": "code",
      "source": [
        "plt.figure(figsize=(10,10))\n",
        "df_corr = df.corr()\n",
        "mask = df_corr.where(abs(df_corr)>=.70).isna()\n",
        "sns.heatmap(df_corr ,mask = mask , annot = True , cmap ='icefire', linewidth = 0.2, linecolor = 'grey').set_facecolor('white')"
      ],
      "metadata": {
        "id": "xyC9zolEZNRQ"
      },
      "execution_count": null,
      "outputs": []
    },
    {
      "cell_type": "markdown",
      "source": [
        "##### 1. Why did you pick the specific chart?"
      ],
      "metadata": {
        "id": "UV0SzAkaZNRQ"
      }
    },
    {
      "cell_type": "markdown",
      "source": [
        "To check correlation between variables on merged dataset."
      ],
      "metadata": {
        "id": "DVPuT8LYZNRQ"
      }
    },
    {
      "cell_type": "markdown",
      "source": [
        "##### 2. What is/are the insight(s) found from the chart?"
      ],
      "metadata": {
        "id": "YPEH6qLeZNRQ"
      }
    },
    {
      "cell_type": "markdown",
      "source": [
        "Weekoftheyear and Month are highly correlated"
      ],
      "metadata": {
        "id": "bfSqtnDqZNRR"
      }
    },
    {
      "cell_type": "markdown",
      "source": [
        "#### Chart - 15 - Pair Plot"
      ],
      "metadata": {
        "id": "q29F0dvdveiT"
      }
    },
    {
      "cell_type": "code",
      "source": [
        "#pairplot for store dataset\n",
        "sns.set_style(\"whitegrid\", {'axes.grid' : False})\n",
        "pp=sns.pairplot(store_df,hue='StoreType')\n",
        "pp.fig.set_size_inches(10,10);"
      ],
      "metadata": {
        "id": "o58-TEIhveiU"
      },
      "execution_count": null,
      "outputs": []
    },
    {
      "cell_type": "markdown",
      "source": [
        "##### 1. Why did you pick the specific chart?"
      ],
      "metadata": {
        "id": "EXh0U9oCveiU"
      }
    },
    {
      "cell_type": "markdown",
      "source": [
        "To show relationjships between the variables. And their distributions."
      ],
      "metadata": {
        "id": "eMmPjTByveiU"
      }
    },
    {
      "cell_type": "markdown",
      "source": [
        "##### 2. What is/are the insight(s) found from the chart?"
      ],
      "metadata": {
        "id": "22aHeOlLveiV"
      }
    },
    {
      "cell_type": "markdown",
      "source": [
        "Answer Here"
      ],
      "metadata": {
        "id": "uPQ8RGwHveiV"
      }
    },
    {
      "cell_type": "markdown",
      "source": [
        "#### Chart - 16"
      ],
      "metadata": {
        "id": "09VGk44KsJFP"
      }
    },
    {
      "cell_type": "code",
      "source": [
        "plt.figure(figsize=(10,10))\n",
        "sns.catplot(data=df, x=\"Month\", y=\"Sales\", col='Promo', hue='Promo2', row=\"Year\", kind=\"point\", height=4, aspect=1.5 , palette=custom_palette)\n",
        "\n",
        "plt.show()\n",
        "# So, of course, if the stores are having promotion the sells are higher.\n",
        "# Overall the store promotions sellings are also higher than the seasionality promotions (Promo2). However I can't see no yearly trend."
      ],
      "metadata": {
        "id": "n6P5NaYesEv3"
      },
      "execution_count": null,
      "outputs": []
    },
    {
      "cell_type": "markdown",
      "source": [
        "As We can see that when the promo is running Sales are high"
      ],
      "metadata": {
        "id": "8Gw6IIwushJ3"
      }
    },
    {
      "cell_type": "markdown",
      "source": [
        "#### Chart - 17"
      ],
      "metadata": {
        "id": "-QwoiluysauZ"
      }
    },
    {
      "cell_type": "code",
      "source": [
        "df.CompetitionDistance.describe()\n",
        "# The obsverations are continous numbers, so we need to convert them into a categories. Lets a create a new variable.\n",
        "df[\"CompetitionDistance_Cat\"] = pd.cut(df[\"CompetitionDistance\"], 5)"
      ],
      "metadata": {
        "id": "7tlFjSq3s8ov"
      },
      "execution_count": null,
      "outputs": []
    },
    {
      "cell_type": "code",
      "source": [
        "f, ax = plt.subplots(1,2, figsize = (15,5))\n",
        "\n",
        "df.groupby(by = \"CompetitionDistance_Cat\").Sales.mean().plot(kind = \"bar\", title = \"Average Total Sales by Competition Distance\", ax = ax[0], color = custom_palette)\n",
        "df.groupby(by = \"CompetitionDistance_Cat\").Customers.mean().plot(kind = \"bar\", title = \"Average Total Customers by Competition Distance\", ax = ax[1] , color = custom_palette)\n",
        "\n",
        "# It is pretty clear. If the competions is very far away, the stores are performing better (sales and customers)"
      ],
      "metadata": {
        "id": "5aU5wKf3tFe9"
      },
      "execution_count": null,
      "outputs": []
    },
    {
      "cell_type": "markdown",
      "source": [
        "It is pretty clear. If the competions is very far away, the stores are performing better (sales and customers)"
      ],
      "metadata": {
        "id": "w3ljB3-jtDTw"
      }
    },
    {
      "cell_type": "markdown",
      "source": [
        "#### Conclusion of analysis\n",
        "**Sales are highly correlated to number of Customers.**\n",
        "\n",
        "**The most selling and crowded store type is A.**\n",
        "\n",
        "**StoreType B has the lowest Average Sales per Customer. So i think customers visit this type only for small things.**\n",
        "\n",
        "**StoreTybe D had the highest buyer cart.**\n",
        "\n",
        "**Promo runs only in weekdays.**\n",
        "\n",
        "**For all stores, Promotion leads to increase in Sales and Customers both.**\n",
        "\n",
        "**More stores are opened during School holidays than State holidays.**\n",
        "\n",
        "**The stores which are opened during School Holiday have more sales than normal days.**\n",
        "\n",
        "**Sales are increased during Chirstmas week, this might be due to the fact that people buy more beauty products during a Christmas celebration.**\n",
        "\n",
        "**Promo2 doesnt seems to be correlated to any significant change in the sales amount.**\n",
        "\n",
        "**Absence of values in features CompetitionOpenSinceYear/Month doesn’t indicate the absence of competition as CompetitionDistance values are not null where the other two values are null.**"
      ],
      "metadata": {
        "id": "sxzQVYestR37"
      }
    },
    {
      "cell_type": "markdown",
      "source": [
        "## ***5. Hypothesis Testing***"
      ],
      "metadata": {
        "id": "g-ATYxFrGrvw"
      }
    },
    {
      "cell_type": "markdown",
      "source": [
        "### Based on your chart experiments, define three hypothetical statements from the dataset. In the next three questions, perform hypothesis testing to obtain final conclusion about the statements through your code and statistical testing."
      ],
      "metadata": {
        "id": "Yfr_Vlr8HBkt"
      }
    },
    {
      "cell_type": "markdown",
      "source": [
        "### Hypothetical Statement - 1"
      ],
      "metadata": {
        "id": "8yEUt7NnHlrM"
      }
    },
    {
      "cell_type": "markdown",
      "source": [
        "#### 1. State Your research hypothesis as a null hypothesis and alternate hypothesis."
      ],
      "metadata": {
        "id": "tEA2Xm5dHt1r"
      }
    },
    {
      "cell_type": "markdown",
      "source": [
        "Null Hypothesis(H0) : Promotions do not have a significant effect on sales<br>\n",
        "Alternative Hypothesis (H1):Promotions have a significant effect on sales<br>\n",
        "<br>\n",
        "Decision Rule:<br>\n",
        "If the p-value is less than or equal to the significance level (0.05), reject the null hypothesis.<br>\n",
        "If the p-value is greater than the significance level, fail to reject the null hypothesis"
      ],
      "metadata": {
        "id": "HI9ZP0laH0D-"
      }
    },
    {
      "cell_type": "markdown",
      "source": [
        "#### 2. Perform an appropriate statistical test."
      ],
      "metadata": {
        "id": "I79__PHVH19G"
      }
    },
    {
      "cell_type": "code",
      "source": [
        "# Perform Statistical Test to obtain P-Value\n",
        "from scipy.stats import ttest_ind\n",
        "promo_sales = rossman_df[rossman_df['Promo'] == 1]['Sales']\n",
        "non_promo_sales = rossman_df[rossman_df['Promo'] == 0]['Sales']\n",
        "\n",
        "\n",
        "t_stat, p_value = ttest_ind(promo_sales, non_promo_sales, equal_var=False, nan_policy='omit')\n",
        "print(f\"T-statistic: {t_stat}, P-value: {p_value}\")\n",
        "\n",
        "alpha = 0.05\n",
        "if p_value <= alpha:\n",
        "    print(\"Reject the null hypothesis - Promotions have a significant effect on sales.\")\n",
        "else:\n",
        "    print(\"Fail to reject the null hypothesis - Promotions do not have a significant effect on sales.\")"
      ],
      "metadata": {
        "id": "oZrfquKtyian"
      },
      "execution_count": null,
      "outputs": []
    },
    {
      "cell_type": "markdown",
      "source": [
        "##### Which statistical test have you done to obtain P-Value?"
      ],
      "metadata": {
        "id": "Ou-I18pAyIpj"
      }
    },
    {
      "cell_type": "markdown",
      "source": [
        "a t-test\n",
        "\n",
        "> Indented block\n",
        "\n"
      ],
      "metadata": {
        "id": "s2U0kk00ygSB"
      }
    },
    {
      "cell_type": "markdown",
      "source": [
        "##### Why did you choose the specific statistical test?"
      ],
      "metadata": {
        "id": "fF3858GYyt-u"
      }
    },
    {
      "cell_type": "markdown",
      "source": [
        "for comparing means between two independent groups, a t-test is appropriate. In this case, use an independent samples t-test"
      ],
      "metadata": {
        "id": "HO4K0gP5y3B4"
      }
    },
    {
      "cell_type": "markdown",
      "source": [
        "### Hypothetical Statement - 2"
      ],
      "metadata": {
        "id": "4_0_7-oCpUZd"
      }
    },
    {
      "cell_type": "markdown",
      "source": [
        "#### 1. State Your research hypothesis as a null hypothesis and alternate hypothesis."
      ],
      "metadata": {
        "id": "hwyV_J3ipUZe"
      }
    },
    {
      "cell_type": "markdown",
      "source": [
        "Null Hypothesis (H0): The average number of customers is the same on School holidays and on regular days.<br>\n",
        "Alternative Hypothesis (H1): The average number of customers is different on School holidays compared to regular days.<br>\n",
        "<br>\n",
        "Decision Making:<br>\n",
        "Decide on a significance level (alpha = 0.05).<br>\n",
        "Based on the p-value obtained from the statistical test, decide whether to reject the null hypothesis or fail to reject it.<br>"
      ],
      "metadata": {
        "id": "FnpLGJ-4pUZe"
      }
    },
    {
      "cell_type": "markdown",
      "source": [
        "#### 2. Perform an appropriate statistical test."
      ],
      "metadata": {
        "id": "3yB-zSqbpUZe"
      }
    },
    {
      "cell_type": "code",
      "source": [
        "import numpy as np\n",
        "import pandas as pd\n",
        "from scipy.stats import ttest_ind\n",
        "\n",
        "rossman_df_open = rossman_df[rossman_df['Open'] == 1].copy()\n",
        "\n",
        "rossman_df_open = rossman_df_open.dropna(subset=['Customers'])\n",
        "\n",
        "rossman_df_open['SchoolHoliday'] = rossman_df_open['SchoolHoliday'].astype(str)\n",
        "\n",
        "\n",
        "regular_day_customers = rossman_df_open[(rossman_df_open['SchoolHoliday'] == '0')]['Customers']\n",
        "\n",
        "state_holiday_customers = rossman_df_open[rossman_df_open['SchoolHoliday'].isin(['a', 'b', 'c', '1'])]['Customers']\n",
        "\n",
        "if not state_holiday_customers.empty and not regular_day_customers.empty:\n",
        "    t_stat, p_val = ttest_ind(state_holiday_customers, regular_day_customers, equal_var=False, nan_policy='omit')\n",
        "\n",
        "    print('State Holiday Mean:', state_holiday_customers.mean())\n",
        "    print('Regular Day Mean:', regular_day_customers.mean())\n",
        "    print('T-Statistic:', t_stat)\n",
        "    print('P-Value:', p_val)\n",
        "\n",
        "    alpha = 0.05\n",
        "    if p_val < alpha:\n",
        "        print('Reject the null hypothesis - Significant difference in the number of customers.')\n",
        "    else:\n",
        "        print('Fail to reject the null hypothesis - No significant difference in the number of customers.')\n",
        "\n"
      ],
      "metadata": {
        "id": "sWxdNTXNpUZe"
      },
      "execution_count": null,
      "outputs": []
    },
    {
      "cell_type": "markdown",
      "source": [
        "##### Which statistical test have you done to obtain P-Value?"
      ],
      "metadata": {
        "id": "dEUvejAfpUZe"
      }
    },
    {
      "cell_type": "markdown",
      "source": [
        "T-test"
      ],
      "metadata": {
        "id": "oLDrPz7HpUZf"
      }
    },
    {
      "cell_type": "markdown",
      "source": [
        "##### Why did you choose the specific statistical test?"
      ],
      "metadata": {
        "id": "Fd15vwWVpUZf"
      }
    },
    {
      "cell_type": "markdown",
      "source": [
        "Since we are comparing the means of two independent samples, we can use a two-sample t-test. <br>"
      ],
      "metadata": {
        "id": "4xOGYyiBpUZf"
      }
    },
    {
      "cell_type": "markdown",
      "source": [
        "### Hypothetical Statement - 3\n"
      ],
      "metadata": {
        "id": "bn_IUdTipZyH"
      }
    },
    {
      "cell_type": "markdown",
      "source": [
        "#### 1. State Your research hypothesis as a null hypothesis and alternate hypothesis."
      ],
      "metadata": {
        "id": "49K5P_iCpZyH"
      }
    },
    {
      "cell_type": "markdown",
      "source": [
        "Null Hypothesis (H0): The average sales are the same across all store types.<br>\n",
        "Alternative Hypothesis (H1): The average sales differ between at least two store types.<br>\n",
        "\n",
        "Decision Making:<br>\n",
        "Based on the p-value obtained from the ANOVA test, decide whether to reject the null hypothesis or fail to reject it."
      ],
      "metadata": {
        "id": "7gWI5rT9pZyH"
      }
    },
    {
      "cell_type": "markdown",
      "source": [
        "#### 2. Perform an appropriate statistical test."
      ],
      "metadata": {
        "id": "Nff-vKELpZyI"
      }
    },
    {
      "cell_type": "code",
      "source": [
        "import pandas as pd\n",
        "from scipy.stats import f_oneway\n",
        "\n",
        "\n",
        "merged_df = pd.merge(store_df, rossman_df, on='Store')\n",
        "\n",
        "\n",
        "sales_data = merged_df[['StoreType', 'Sales']].dropna()\n",
        "\n",
        "average_sales_by_store_type = sales_data.groupby('StoreType')['Sales'].mean()\n",
        "\n",
        "\n",
        "store_type_groups = [group[1] for group in sales_data.groupby('StoreType')['Sales']]\n",
        "f_stat, p_val = f_oneway(*store_type_groups)\n",
        "\n",
        "print('Average Sales by Store Type:')\n",
        "print(average_sales_by_store_type)\n",
        "print('F-Statistic:', f_stat)\n",
        "print('P-Value:', p_val)\n",
        "\n",
        "\n",
        "alpha = 0.05\n",
        "if p_val < alpha:\n",
        "    print('Reject the null hypothesis - Significant difference in average sales among store types.')\n",
        "else:\n",
        "    print('Fail to reject the null hypothesis - No significant difference in average sales among store types.')\n"
      ],
      "metadata": {
        "id": "s6AnJQjtpZyI"
      },
      "execution_count": null,
      "outputs": []
    },
    {
      "cell_type": "markdown",
      "source": [
        "##### Which statistical test have you done to obtain P-Value?"
      ],
      "metadata": {
        "id": "kLW572S8pZyI"
      }
    },
    {
      "cell_type": "markdown",
      "source": [
        "F-test or Anova test"
      ],
      "metadata": {
        "id": "ytWJ8v15pZyI"
      }
    },
    {
      "cell_type": "markdown",
      "source": [
        "##### Why did you choose the specific statistical test?"
      ],
      "metadata": {
        "id": "dWbDXHzopZyI"
      }
    },
    {
      "cell_type": "markdown",
      "source": [
        "ANOVA is specifically designed to compare the means of three or more groups simultaneously.<br>In this case, we have more than two store types ( 'a', 'b', 'c', 'd')"
      ],
      "metadata": {
        "id": "M99G98V6pZyI"
      }
    },
    {
      "cell_type": "markdown",
      "source": [
        "## ***6. Feature Engineering & Data Pre-processing***"
      ],
      "metadata": {
        "id": "yLjJCtPM0KBk"
      }
    },
    {
      "cell_type": "markdown",
      "source": [
        "### 1. Handling Missing Values"
      ],
      "metadata": {
        "id": "xiyOF9F70UgQ"
      }
    },
    {
      "cell_type": "code",
      "source": [
        "# Handling Missing Values & Missing Value Imputation\n",
        "# remove features\n",
        "store_df = store_df.drop(['CompetitionOpenSinceMonth', 'CompetitionOpenSinceYear','Promo2SinceWeek',\n",
        "                     'Promo2SinceYear', 'PromoInterval'], axis=1)"
      ],
      "metadata": {
        "id": "iRsAHk1K0fpS"
      },
      "execution_count": null,
      "outputs": []
    },
    {
      "cell_type": "code",
      "source": [
        "store_df.CompetitionDistance.fillna(store_df.CompetitionDistance.median(), inplace=True)"
      ],
      "metadata": {
        "id": "bMEaavURuZEm"
      },
      "execution_count": null,
      "outputs": []
    },
    {
      "cell_type": "markdown",
      "source": [
        "#### What all missing value imputation techniques have you used and why did you use those techniques?"
      ],
      "metadata": {
        "id": "7wuGOrhz0itI"
      }
    },
    {
      "cell_type": "markdown",
      "source": [
        "**we can see that some features have a high percentage of missing values and they won't be accurate as indicators, so we will remove features with more than 30% missing values.** <br>\n",
        "**we are using median for imputing feature with less than 30% missing values**."
      ],
      "metadata": {
        "id": "1ixusLtI0pqI"
      }
    },
    {
      "cell_type": "markdown",
      "source": [],
      "metadata": {
        "id": "uyQmBz9i0-Lw"
      }
    },
    {
      "cell_type": "markdown",
      "source": [
        "### 2. Handling Outliers"
      ],
      "metadata": {
        "id": "id1riN9m0vUs"
      }
    },
    {
      "cell_type": "code",
      "source": [
        "#checking outliers in sales\n",
        "plt.figure(figsize=(4,6))\n",
        "sns.boxplot(rossman_df['Sales'], palette = custom_palette)\n"
      ],
      "metadata": {
        "id": "M6w2CzZf04JK"
      },
      "execution_count": null,
      "outputs": []
    },
    {
      "cell_type": "code",
      "source": [
        "def remove_outlier(df_in, col_name):\n",
        "    z_scores = zscore(df_in[col_name])\n",
        "    df_out = df_in[(z_scores > -1.5) & (z_scores < 1.5)]  # Adjust the z-score threshold as needed\n",
        "    return df_out\n",
        "\n",
        "df_no_outliers = remove_outlier(df, 'Sales')"
      ],
      "metadata": {
        "id": "iWqMq4q8uz1I"
      },
      "execution_count": null,
      "outputs": []
    },
    {
      "cell_type": "code",
      "source": [
        "#checking outliers in sales\n",
        "plt.figure(figsize=(4,6))\n",
        "sns.boxplot(df_no_outliers['Sales'], palette = custom_palette)"
      ],
      "metadata": {
        "id": "MjmkggHSu12j"
      },
      "execution_count": null,
      "outputs": []
    },
    {
      "cell_type": "markdown",
      "source": [
        "##### What all outlier treatment techniques have you used and why did you use those techniques?"
      ],
      "metadata": {
        "id": "578E2V7j08f6"
      }
    },
    {
      "cell_type": "markdown",
      "source": [
        "**Box plot shows that we have a very high outliers in sales. We are using z-score technique to remove outliers in sales column.**"
      ],
      "metadata": {
        "id": "uGZz5OrT1HH-"
      }
    },
    {
      "cell_type": "markdown",
      "source": [
        "### 3. Categorical Encoding"
      ],
      "metadata": {
        "id": "89xtkJwZ18nB"
      }
    },
    {
      "cell_type": "code",
      "source": [],
      "metadata": {
        "id": "MleeWqk1v4hu"
      },
      "execution_count": null,
      "outputs": []
    },
    {
      "cell_type": "markdown",
      "source": [
        "#### What all categorical encoding techniques have you used & why did you use those techniques?"
      ],
      "metadata": {
        "id": "67NQN5KX2AMe"
      }
    },
    {
      "cell_type": "markdown",
      "source": [
        "We are using pd.get_dummies for categorical encoding , in next step."
      ],
      "metadata": {
        "id": "UDaue5h32n_G"
      }
    },
    {
      "cell_type": "markdown",
      "source": [
        "### 4. Feature Manipulation & Selection"
      ],
      "metadata": {
        "id": "-oLEiFgy-5Pf"
      }
    },
    {
      "cell_type": "markdown",
      "source": [
        "#### 1. Feature Manipulation"
      ],
      "metadata": {
        "id": "C74aWNz2AliB"
      }
    },
    {
      "cell_type": "code",
      "source": [
        "# Manipulate Features to minimize feature correlation and create new features\n",
        "# where stores are closed, they won't generate sales, so we will remove that part of the dataset\n",
        "df = df[df.Open != 0]"
      ],
      "metadata": {
        "id": "h1qC4yhBApWC"
      },
      "execution_count": null,
      "outputs": []
    },
    {
      "cell_type": "code",
      "source": [
        "# Open isn't a variable anymore, so we'll drop it too\n",
        "df = df.drop('Open', axis=1)"
      ],
      "metadata": {
        "id": "TBfuPjcowQqb"
      },
      "execution_count": null,
      "outputs": []
    },
    {
      "cell_type": "code",
      "source": [
        "# Check if there's any opened store with zero sales\n",
        "df[df.Sales == 0]['Store'].sum()"
      ],
      "metadata": {
        "id": "c-ftvK8hwSVV"
      },
      "execution_count": null,
      "outputs": []
    },
    {
      "cell_type": "code",
      "source": [
        "# see the percentage of open stored with zero sales\n",
        "df[df.Sales == 0]['Sales'].sum()/df.Sales.sum()"
      ],
      "metadata": {
        "id": "qL7aazTpwVfj"
      },
      "execution_count": null,
      "outputs": []
    },
    {
      "cell_type": "code",
      "source": [
        "# remove this part of data to avoid bias\n",
        "df = df[df.Sales != 0]"
      ],
      "metadata": {
        "id": "c2MSGkw-wXNi"
      },
      "execution_count": null,
      "outputs": []
    },
    {
      "cell_type": "code",
      "source": [
        "df_new=df.copy()"
      ],
      "metadata": {
        "id": "lWJi0k8owZe3"
      },
      "execution_count": null,
      "outputs": []
    },
    {
      "cell_type": "markdown",
      "source": [
        "Categorical encoding using dummies"
      ],
      "metadata": {
        "id": "b_feNkaUwfX2"
      }
    },
    {
      "cell_type": "code",
      "source": [
        "df_new = pd.get_dummies(df_new,columns=['StoreType','Assortment'])"
      ],
      "metadata": {
        "id": "p94P59vEweti"
      },
      "execution_count": null,
      "outputs": []
    },
    {
      "cell_type": "code",
      "source": [
        "df_new.head()"
      ],
      "metadata": {
        "id": "VguOYe3hwszs"
      },
      "execution_count": null,
      "outputs": []
    },
    {
      "cell_type": "markdown",
      "source": [
        "#### 2. Feature Selection"
      ],
      "metadata": {
        "id": "2DejudWSA-a0"
      }
    },
    {
      "cell_type": "code",
      "source": [
        "selected_features = ['Customers', 'Promo', 'SchoolHoliday', 'Month', 'Day',\n",
        "                     'WeekOfYear', 'CompetitionDistance', 'Promo2', 'StoreType_a',\n",
        "                     'StoreType_b', 'StoreType_c', 'StoreType_d', 'Assortment_a',\n",
        "                     'Assortment_b', 'Assortment_c']\n",
        "new_df_selected = df_new[selected_features]"
      ],
      "metadata": {
        "id": "YLhe8UmaBCEE"
      },
      "execution_count": null,
      "outputs": []
    },
    {
      "cell_type": "markdown",
      "source": [
        "##### What all feature selection methods have you used  and why?"
      ],
      "metadata": {
        "id": "pEMng2IbBLp7"
      }
    },
    {
      "cell_type": "markdown",
      "source": [
        "We dont columns like date , promoInterval , avg_customer sales , lattitude , longitude related columns. These columns are not helpting in ml model, but it will create problem for model in learning."
      ],
      "metadata": {
        "id": "rb2Lh6Z8BgGs"
      }
    },
    {
      "cell_type": "markdown",
      "source": [
        "##### Which all features you found important and why?"
      ],
      "metadata": {
        "id": "rAdphbQ9Bhjc"
      }
    },
    {
      "cell_type": "markdown",
      "source": [
        "We feel store type and promotions are most important features.\n",
        "\n",
        "\n"
      ],
      "metadata": {
        "id": "fGgaEstsBnaf"
      }
    },
    {
      "cell_type": "markdown",
      "source": [
        "### 5. Data Transformation"
      ],
      "metadata": {
        "id": "TNVZ9zx19K6k"
      }
    },
    {
      "cell_type": "code",
      "source": [
        "imputer = SimpleImputer(strategy='median')\n",
        "new_df_selected_imputed = pd.DataFrame(imputer.fit_transform(new_df_selected), columns=new_df_selected.columns)"
      ],
      "metadata": {
        "id": "f3W04WOL1Ns5"
      },
      "execution_count": null,
      "outputs": []
    },
    {
      "cell_type": "markdown",
      "source": [
        "There are some NaN values in dataset , which were causing error in applying PCA , hence we have applied simple imputer using median to fill NaN values."
      ],
      "metadata": {
        "id": "t1Kal_tH1loH"
      }
    },
    {
      "cell_type": "code",
      "source": [
        "scaler = StandardScaler()\n",
        "scaled_data = scaler.fit_transform(new_df_selected_imputed)"
      ],
      "metadata": {
        "id": "pbxXqK6qx5NR"
      },
      "execution_count": null,
      "outputs": []
    },
    {
      "cell_type": "markdown",
      "source": [
        "#### Do you think that your data needs to be transformed? If yes, which transformation have you used. Explain Why?"
      ],
      "metadata": {
        "id": "nqoHp30x9hH9"
      }
    },
    {
      "cell_type": "markdown",
      "source": [
        "We have used standard scaler here. Transformating data to make in one one scale is very important for ml model. But we will train model on both scaled and orginal data to see the performances."
      ],
      "metadata": {
        "id": "mASxwvYxz2R3"
      }
    },
    {
      "cell_type": "markdown",
      "source": [
        "### 6. Data Scaling"
      ],
      "metadata": {
        "id": "rMDnDkt2B6du"
      }
    },
    {
      "cell_type": "code",
      "source": [
        "# We have used standard scaler for scaling"
      ],
      "metadata": {
        "id": "dL9LWpySC6x_"
      },
      "execution_count": null,
      "outputs": []
    },
    {
      "cell_type": "markdown",
      "source": [
        "##### Which method have you used to scale you data and why?"
      ],
      "metadata": {
        "id": "yiiVWRdJDDil"
      }
    },
    {
      "cell_type": "markdown",
      "source": [
        "### 7. Dimesionality Reduction"
      ],
      "metadata": {
        "id": "1UUpS68QDMuG"
      }
    },
    {
      "cell_type": "markdown",
      "source": [
        "##### Do you think that dimensionality reduction is needed? Explain Why?"
      ],
      "metadata": {
        "id": "kexQrXU-DjzY"
      }
    },
    {
      "cell_type": "markdown",
      "source": [
        "Applying PCA might help in reducing some noise in dataset , hence e will use PCA here."
      ],
      "metadata": {
        "id": "GGRlBsSGDtTQ"
      }
    },
    {
      "cell_type": "code",
      "source": [
        "# Step 4: Dimensionality Reduction (Optional)\n",
        "pca = PCA(n_components=0.95)  # Retain 95% of variance\n",
        "reduced_data = pca.fit_transform(scaled_data)"
      ],
      "metadata": {
        "id": "kQfvxBBHDvCa"
      },
      "execution_count": null,
      "outputs": []
    },
    {
      "cell_type": "markdown",
      "source": [
        "##### Which dimensionality reduction technique have you used and why? (If dimensionality reduction done on dataset.)"
      ],
      "metadata": {
        "id": "T5CmagL3EC8N"
      }
    },
    {
      "cell_type": "markdown",
      "source": [
        "we are using principle components analysis, which is best dimensionality reduction technique used in data sceince community."
      ],
      "metadata": {
        "id": "ZKr75IDuEM7t"
      }
    },
    {
      "cell_type": "markdown",
      "source": [
        "### 8. Data Splitting"
      ],
      "metadata": {
        "id": "BhH2vgX9EjGr"
      }
    },
    {
      "cell_type": "code",
      "source": [
        "# Split your data to train and test. Choose Splitting ratio wisely.\n",
        "X_train, X_test, y_train, y_test = train_test_split(reduced_data, df_new['Sales'], test_size=0.2, random_state=42)"
      ],
      "metadata": {
        "id": "0CTyd2UwEyNM"
      },
      "execution_count": null,
      "outputs": []
    },
    {
      "cell_type": "markdown",
      "source": [
        "##### What data splitting ratio have you used and why?"
      ],
      "metadata": {
        "id": "qjKvONjwE8ra"
      }
    },
    {
      "cell_type": "markdown",
      "source": [
        "We are using train test split from library scikit learn. We are using 20% data as test data and 80% as train data."
      ],
      "metadata": {
        "id": "Y2lJ8cobFDb_"
      }
    },
    {
      "cell_type": "markdown",
      "source": [
        "### 9. Handling Imbalanced Dataset"
      ],
      "metadata": {
        "id": "P1XJ9OREExlT"
      }
    },
    {
      "cell_type": "code",
      "source": [
        "# target_column = 'Sales'\n",
        "\n",
        "# # Count the occurrences of each class in the target variable\n",
        "# class_counts = df_new[target_column].value_counts()\n",
        "\n",
        "# # Calculate the class distribution as percentages\n",
        "# class_distribution = class_counts / class_counts.sum() * 100\n",
        "\n",
        "# # Display the class distribution\n",
        "# print(\"Class Distribution:\")\n",
        "# print(class_distribution)\n",
        "\n",
        "# # Visualize the class distribution (optional)\n",
        "# import matplotlib.pyplot as plt\n",
        "# import seaborn as sns\n",
        "\n",
        "# plt.figure(figsize=(8, 6))\n",
        "# sns.barplot(x=class_counts.index, y=class_counts.values)\n",
        "# plt.title(\"Class Distribution\")\n",
        "# plt.xlabel(\"Class\")\n",
        "# plt.ylabel(\"Count\")\n",
        "# plt.show()"
      ],
      "metadata": {
        "id": "B7Om1KI720VG"
      },
      "execution_count": null,
      "outputs": []
    },
    {
      "cell_type": "markdown",
      "source": [],
      "metadata": {
        "id": "Q5OmyT44q-Ta"
      }
    },
    {
      "cell_type": "markdown",
      "source": [
        "##### Do you think the dataset is imbalanced? Explain Why."
      ],
      "metadata": {
        "id": "VFOzZv6IFROw"
      }
    },
    {
      "cell_type": "markdown",
      "source": [
        "Distribution is like symmetrical. We might not need to apply SMOTE for handling imbalance dataset."
      ],
      "metadata": {
        "id": "GeKDIv7pFgcC"
      }
    },
    {
      "cell_type": "code",
      "source": [
        "# Handling Imbalanced Dataset (If needed)"
      ],
      "metadata": {
        "id": "nQsRhhZLFiDs"
      },
      "execution_count": null,
      "outputs": []
    },
    {
      "cell_type": "markdown",
      "source": [
        "##### What technique did you use to handle the imbalance dataset and why? (If needed to be balanced)"
      ],
      "metadata": {
        "id": "TIqpNgepFxVj"
      }
    },
    {
      "cell_type": "markdown",
      "source": [
        "Answer Here."
      ],
      "metadata": {
        "id": "qbet1HwdGDTz"
      }
    },
    {
      "cell_type": "markdown",
      "source": [
        "## ***7. ML Model Implementation***"
      ],
      "metadata": {
        "id": "VfCC591jGiD4"
      }
    },
    {
      "cell_type": "code",
      "source": [
        "#Util Functions\n",
        "results_dict = {}\n",
        "def evaluate_and_print_results(y_true, y_pred, model_name):\n",
        "    rmse = sqrt(mean_squared_error(y_true, y_pred))\n",
        "    r2 = r2_score(y_true, y_pred)\n",
        "    mape_error = mean_absolute_percentage_error(y_true, y_pred)\n",
        "    print(f\"{model_name} RMSE: {rmse}\")\n",
        "    print(f\"{model_name} R^2 Score: {r2}\")\n",
        "    print(f\"{model_name} MAPE Score: {mape_error}\")\n",
        "    print(\"\\n\")\n",
        "\n",
        "    # Append results to the dictionary\n",
        "    results_dict[model_name] = {\n",
        "        'RMSE': rmse,\n",
        "        'R^2 Score': r2,\n",
        "        'MAPE Score' : mape_error\n",
        "    }\n",
        "\n",
        "def plot_predictions(y_true, y_pred, model_name):\n",
        "    plt.figure(figsize=(8, 6))\n",
        "    sns.scatterplot(x=y_true, y=y_pred,palette=custom_palette)\n",
        "    plt.title(f\"{model_name} - True vs Predicted Values\")\n",
        "    plt.xlabel(\"True Values\")\n",
        "    plt.ylabel(\"Predicted Values\")\n",
        "    plt.show()"
      ],
      "metadata": {
        "id": "gi42vrp3AXir"
      },
      "execution_count": null,
      "outputs": []
    },
    {
      "cell_type": "markdown",
      "source": [
        "### ML Model - 1"
      ],
      "metadata": {
        "id": "OB4l2ZhMeS1U"
      }
    },
    {
      "cell_type": "code",
      "source": [
        "linear_reg_model = LinearRegression()\n",
        "linear_reg_model.fit(X_train, y_train)\n",
        "y_pred_linear_reg = linear_reg_model.predict(X_test)\n",
        "evaluate_and_print_results(y_test, y_pred_linear_reg, linear_reg_model)\n",
        "# plot_predictions(y_test, y_pred_linear_reg, linear_reg_model)"
      ],
      "metadata": {
        "id": "7ebyywQieS1U"
      },
      "execution_count": null,
      "outputs": []
    },
    {
      "cell_type": "markdown",
      "source": [
        "#### 1. Explain the ML Model used and it's performance using Evaluation metric Score Chart."
      ],
      "metadata": {
        "id": "ArJBuiUVfxKd"
      }
    },
    {
      "cell_type": "code",
      "source": [
        "# Visualizing evaluation Metric Score chart"
      ],
      "metadata": {
        "id": "rqD5ZohzfxKe"
      },
      "execution_count": null,
      "outputs": []
    },
    {
      "cell_type": "markdown",
      "source": [
        "#### 2. Cross- Validation & Hyperparameter Tuning"
      ],
      "metadata": {
        "id": "4qY1EAkEfxKe"
      }
    },
    {
      "cell_type": "markdown",
      "source": [
        "Lasso Regression"
      ],
      "metadata": {
        "id": "tVq8coWy2Zl6"
      }
    },
    {
      "cell_type": "code",
      "source": [
        "param_grid_lasso = {\n",
        "    'alpha': [0.01, 0.1, 1, 10]\n",
        "}\n",
        "grid_search_lasso = GridSearchCV(Lasso(), param_grid_lasso, cv=5, scoring='neg_mean_squared_error')\n",
        "grid_search_lasso.fit(X_train, y_train)\n",
        "best_lasso_model = grid_search_lasso.best_estimator_\n",
        "y_pred_lasso = best_lasso_model.predict(X_test)\n",
        "evaluate_and_print_results(y_test, y_pred_lasso, best_lasso_model)\n",
        "# plot_predictions(y_test, y_pred_lasso, best_lasso_model)"
      ],
      "metadata": {
        "id": "Dy61ujd6fxKe"
      },
      "execution_count": null,
      "outputs": []
    },
    {
      "cell_type": "markdown",
      "source": [
        "Ridge Regression"
      ],
      "metadata": {
        "id": "BCDuGjww2btP"
      }
    },
    {
      "cell_type": "code",
      "source": [
        "param_grid_ridge = {\n",
        "    'alpha': [0.01, 0.1, 1, 10]\n",
        "}\n",
        "\n",
        "grid_search_ridge = GridSearchCV(Ridge(), param_grid_ridge, cv=5, scoring='neg_mean_squared_error')\n",
        "grid_search_ridge.fit(X_train, y_train)\n",
        "best_ridge_model = grid_search_ridge.best_estimator_\n",
        "y_pred_ridge = best_ridge_model.predict(X_test)\n",
        "evaluate_and_print_results(y_test, y_pred_ridge, best_ridge_model)\n",
        "# plot_predictions(y_test, y_pred_ridge, best_ridge_model)"
      ],
      "metadata": {
        "id": "svvVM4UDAzQk"
      },
      "execution_count": null,
      "outputs": []
    },
    {
      "cell_type": "markdown",
      "source": [
        "Polynomial Regression"
      ],
      "metadata": {
        "id": "UV1x5r522eXH"
      }
    },
    {
      "cell_type": "code",
      "source": [
        "poly_model = make_pipeline(PolynomialFeatures(degree=2), Ridge())\n",
        "poly_model.fit(X_train, y_train)\n",
        "y_pred_poly = poly_model.predict(X_test)\n",
        "evaluate_and_print_results(y_test, y_pred_poly, \"Polynomial Regression(Degree-2)\")\n",
        "# plot_predictions(y_test, y_pred_poly, \"Polynomial Regression(Degree-2)\")\n"
      ],
      "metadata": {
        "id": "BkzBEccaA3Gq"
      },
      "execution_count": null,
      "outputs": []
    },
    {
      "cell_type": "markdown",
      "source": [
        "##### Which hyperparameter optimization technique have you used and why?"
      ],
      "metadata": {
        "id": "PiV4Ypx8fxKe"
      }
    },
    {
      "cell_type": "markdown",
      "source": [
        "We are using gridsearchCV for hyper parameter tuning."
      ],
      "metadata": {
        "id": "negyGRa7fxKf"
      }
    },
    {
      "cell_type": "markdown",
      "source": [
        "##### Have you seen any improvement? Note down the improvement with updates Evaluation metric Score Chart."
      ],
      "metadata": {
        "id": "TfvqoZmBfxKf"
      }
    },
    {
      "cell_type": "markdown",
      "source": [
        "Yes . We can see improvements after the gridsearchcv.<br>\n",
        "Polynomial Regression(Degree-2) RMSE: 1156.5389995702774 <br>\n",
        "Polynomial Regression(Degree-2) R^2 Score: 0.8613841879066644<br>\n",
        "Polynomial Regression(Degree-2) MAPE Score: 0.12840967336014672"
      ],
      "metadata": {
        "id": "OaLui8CcfxKf"
      }
    },
    {
      "cell_type": "markdown",
      "source": [
        "### ML Model - 2"
      ],
      "metadata": {
        "id": "dJ2tPlVmpsJ0"
      }
    },
    {
      "cell_type": "markdown",
      "source": [
        "#### 1. Explain the ML Model used and it's performance using Evaluation metric Score Chart."
      ],
      "metadata": {
        "id": "JWYfwnehpsJ1"
      }
    },
    {
      "cell_type": "code",
      "source": [
        "param_grid_decision_tree = {\n",
        "    'max_depth': [20],\n",
        "    'min_samples_split': [10],\n",
        "    'min_samples_leaf': [4]\n",
        "}\n",
        "# WE have searched best hyperparamters in previous iterations.\n",
        "grid_search_decision_tree = GridSearchCV(DecisionTreeRegressor(), param_grid_decision_tree, cv=5, scoring='neg_mean_squared_error')\n",
        "grid_search_decision_tree.fit(X_train, y_train)\n",
        "best_decision_tree_model = grid_search_decision_tree.best_estimator_\n",
        "y_pred_decision_tree = best_decision_tree_model.predict(X_test)\n",
        "evaluate_and_print_results(y_test, y_pred_decision_tree, best_decision_tree_model)\n",
        "# plot_predictions(y_test, y_pred_decision_tree, best_decision_tree_model)"
      ],
      "metadata": {
        "id": "yEl-hgQWpsJ1"
      },
      "execution_count": null,
      "outputs": []
    },
    {
      "cell_type": "markdown",
      "source": [
        "#### 2. Cross- Validation & Hyperparameter Tuning"
      ],
      "metadata": {
        "id": "-jK_YjpMpsJ2"
      }
    },
    {
      "cell_type": "code",
      "source": [
        "# We have finalized some hyperparameters , after training on parameters using gridsearchCV."
      ],
      "metadata": {
        "id": "Dn0EOfS6psJ2"
      },
      "execution_count": null,
      "outputs": []
    },
    {
      "cell_type": "markdown",
      "source": [
        "##### Which hyperparameter optimization technique have you used and why?"
      ],
      "metadata": {
        "id": "HAih1iBOpsJ2"
      }
    },
    {
      "cell_type": "markdown",
      "source": [
        "We have finalized some hyperparameters , after training on parameters using gridsearchCV."
      ],
      "metadata": {
        "id": "9kBgjYcdpsJ2"
      }
    },
    {
      "cell_type": "markdown",
      "source": [
        "##### Have you seen any improvement? Note down the improvement with updates Evaluation metric Score Chart."
      ],
      "metadata": {
        "id": "zVGeBEFhpsJ2"
      }
    },
    {
      "cell_type": "markdown",
      "source": [
        "DecisionTreeRegressor(max_depth=20, min_samples_leaf=4, min_samples_split=10) RMSE: 1179.907612718757\n",
        "DecisionTreeRegressor(max_depth=20, min_samples_leaf=4, min_samples_split=10) R^2 Score: 0.8557259525211094\n",
        "DecisionTreeRegressor(max_depth=20, min_samples_leaf=4, min_samples_split=10) MAPE Score: 0.12428531421471634\n"
      ],
      "metadata": {
        "id": "74yRdG6UpsJ3"
      }
    },
    {
      "cell_type": "markdown",
      "source": [
        "#### 3. Explain each evaluation metric's indication towards business and the business impact pf the ML model used."
      ],
      "metadata": {
        "id": "bmKjuQ-FpsJ3"
      }
    },
    {
      "cell_type": "markdown",
      "source": [
        "Answer Here."
      ],
      "metadata": {
        "id": "BDKtOrBQpsJ3"
      }
    },
    {
      "cell_type": "markdown",
      "source": [
        "### ML Model - 3"
      ],
      "metadata": {
        "id": "Fze-IPXLpx6K"
      }
    },
    {
      "cell_type": "code",
      "source": [
        "# param_grid_random_forest = {\n",
        "#     'n_estimators': [50, 100, 200],\n",
        "#     'max_depth': [None, 10, 20, 30],\n",
        "#     'min_samples_split': [2, 5, 10],\n",
        "#     'min_samples_leaf': [1, 2, 4]\n",
        "# }\n",
        "\n",
        "# grid_search_random_forest = GridSearchCV(RandomForestRegressor(), param_grid_random_forest, cv=5, scoring='neg_mean_squared_error')\n",
        "# grid_search_random_forest.fit(X_train, y_train)\n",
        "# best_random_forest_model = grid_search_random_forest.best_estimator_\n",
        "# y_pred_random_forest = best_random_forest_model.predict(X_test)\n",
        "# evaluate_and_print_results(y_test, y_pred_random_forest, best_random_forest_model)\n",
        "# # plot_predictions(y_test, y_pred_random_forest, best_random_forest_model)"
      ],
      "metadata": {
        "id": "FFrSXAtrpx6M"
      },
      "execution_count": null,
      "outputs": []
    },
    {
      "cell_type": "code",
      "source": [
        "# # WE have searched best hyperparamters in previous iterations.\n",
        "# # { n_estimators=80,min_samples_split=2,min_samples_leaf=1,max_depth=None }\n",
        "\n",
        "# rf = RandomForestRegressor(n_estimators=80,min_samples_split=2, min_samples_leaf=1,max_depth=None,n_jobs=-1)\n",
        "# rfreg = rf.fit(X_train, y_train)\n",
        "# y_pred_random_forest = rfreg.predict(X_test)\n",
        "# evaluate_and_print_results(y_test, y_pred_random_forest, \"Random Forest(n_estimator=80)\")\n",
        "# # plot_predictions(y_test, y_pred_random_forest, best_random_forest_model)"
      ],
      "metadata": {
        "id": "_mKvxhLQBF7l"
      },
      "execution_count": null,
      "outputs": []
    },
    {
      "cell_type": "markdown",
      "source": [
        "Model size is too big , hence we are commenting out the code."
      ],
      "metadata": {
        "id": "2TVTbQxf1jLc"
      }
    },
    {
      "cell_type": "markdown",
      "source": [
        "#### 1. Explain the ML Model used and it's performance using Evaluation metric Score Chart."
      ],
      "metadata": {
        "id": "7AN1z2sKpx6M"
      }
    },
    {
      "cell_type": "markdown",
      "source": [
        "Random Forest(n_estimator=80) RMSE: 1007.853701590495 <br>\n",
        "Random Forest(n_estimator=80) R^2 Score: 0.8947342231806028 <br>\n",
        "Random Forest(n_estimator=80) MAPE Score: 0.10849044228652\n"
      ],
      "metadata": {
        "id": "OUUy_geWwWjp"
      }
    },
    {
      "cell_type": "markdown",
      "source": [
        "#### 2. Cross- Validation & Hyperparameter Tuning"
      ],
      "metadata": {
        "id": "9PIHJqyupx6M"
      }
    },
    {
      "cell_type": "code",
      "source": [
        "# we have written util function  for this stage"
      ],
      "metadata": {
        "id": "eSVXuaSKpx6M"
      },
      "execution_count": null,
      "outputs": []
    },
    {
      "cell_type": "markdown",
      "source": [
        "##### Which hyperparameter optimization technique have you used and why?"
      ],
      "metadata": {
        "id": "_-qAgymDpx6N"
      }
    },
    {
      "cell_type": "markdown",
      "source": [
        "we have used GridSearchCV"
      ],
      "metadata": {
        "id": "lQMffxkwpx6N"
      }
    },
    {
      "cell_type": "markdown",
      "source": [
        "##### Have you seen any improvement? Note down the improvement with updates Evaluation metric Score Chart."
      ],
      "metadata": {
        "id": "Z-hykwinpx6N"
      }
    },
    {
      "cell_type": "markdown",
      "source": [
        "Yes we have seen lots of imporvements , random forest regressor is best  performed model.<br>\n",
        "Random Forest(n_estimator=80) RMSE: 1007.853701590495 <br>\n",
        "Random Forest(n_estimator=80) R^2 Score: 0.8947342231806028 <br>\n",
        "Random Forest(n_estimator=80) MAPE Score: 0.10849044228652\n"
      ],
      "metadata": {
        "id": "MzVzZC6opx6N"
      }
    },
    {
      "cell_type": "markdown",
      "source": [
        "### 1. Which Evaluation metrics did you consider for a positive business impact and why?"
      ],
      "metadata": {
        "id": "h_CCil-SKHpo"
      }
    },
    {
      "cell_type": "code",
      "source": [
        "results_df = pd.DataFrame(results_dict).transpose()\n",
        "results_df"
      ],
      "metadata": {
        "id": "EEhYrsn1BOyA"
      },
      "execution_count": null,
      "outputs": []
    },
    {
      "cell_type": "markdown",
      "source": [
        "### 2. Which ML model did you choose from the above created models as your final prediction model and why?"
      ],
      "metadata": {
        "id": "cBFFvTBNJzUa"
      }
    },
    {
      "cell_type": "markdown",
      "source": [
        "We are choosing random forest regressor."
      ],
      "metadata": {
        "id": "6ksF5Q1LKTVm"
      }
    },
    {
      "cell_type": "markdown",
      "source": [
        "### 3. Explain the model which you have used and the feature importance using any model explainability tool?"
      ],
      "metadata": {
        "id": "HvGl1hHyA_VK"
      }
    },
    {
      "cell_type": "code",
      "source": [
        "# def plot_feature_importance(importance,names,model_type):\n",
        "\n",
        "#   #Create arrays from feature importance and feature names\n",
        "#   feature_importance = np.array(importance)\n",
        "#   feature_names = np.array(names)\n",
        "\n",
        "#   #Create a DataFrame using a Dictionary\n",
        "#   data={'feature_names':feature_names,'feature_importance':feature_importance}\n",
        "#   fi_df = pd.DataFrame(data)\n",
        "\n",
        "#   #Sort the DataFrame in order decreasing feature importance\n",
        "#   fi_df.sort_values(by=['feature_importance'], ascending=False,inplace=True)\n",
        "\n",
        "#   #Define size of bar plot\n",
        "#   plt.figure(figsize=(10,8))\n",
        "#   #Plot Searborn bar chart\n",
        "#   sns.barplot(x=fi_df['feature_importance'], y=fi_df['feature_names'])\n",
        "#   #Add chart labels\n",
        "#   plt.title(model_type + ' FEATURE IMPORTANCE')\n",
        "#   plt.xlabel('FEATURE IMPORTANCE')\n",
        "#   plt.ylabel('FEATURE NAMES')"
      ],
      "metadata": {
        "id": "A8y81er5BiFB"
      },
      "execution_count": null,
      "outputs": []
    },
    {
      "cell_type": "code",
      "source": [
        "# plot_feature_importance(rfreg.feature_importances_,columns[:],'RANDOM FOREST')"
      ],
      "metadata": {
        "id": "jdICPO66Bmfa"
      },
      "execution_count": null,
      "outputs": []
    },
    {
      "cell_type": "markdown",
      "source": [
        "<!-- def plot_feature_importance(importance,names,model_type):\n",
        "\n",
        "  #Create arrays from feature importance and feature names\n",
        "  feature_importance = np.array(importance)\n",
        "  feature_names = np.array(names)\n",
        "\n",
        "  #Create a DataFrame using a Dictionary\n",
        "  data={'feature_names':feature_names,'feature_importance':feature_importance}\n",
        "  fi_df = pd.DataFrame(data)\n",
        "\n",
        "  #Sort the DataFrame in order decreasing feature importance\n",
        "  fi_df.sort_values(by=['feature_importance'], ascending=False,inplace=True)\n",
        "\n",
        "  #Define size of bar plot\n",
        "  plt.figure(figsize=(10,8))\n",
        "  #Plot Searborn bar chart\n",
        "  sns.barplot(x=fi_df['feature_importance'], y=fi_df['feature_names'])\n",
        "  #Add chart labels\n",
        "  plt.title(model_type + ' FEATURE IMPORTANCE')\n",
        "  plt.xlabel('FEATURE IMPORTANCE')\n",
        "  plt.ylabel('FEATURE NAMES') -->"
      ],
      "metadata": {
        "id": "YnvVTiIxBL-C"
      }
    },
    {
      "cell_type": "markdown",
      "source": [
        "![image.png](data:image/png;base64,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)"
      ],
      "metadata": {
        "id": "8JUh0TwOBXpb"
      }
    },
    {
      "cell_type": "markdown",
      "source": [
        "## ***8.*** ***Future Work (Optional)***"
      ],
      "metadata": {
        "id": "EyNgTHvd2WFk"
      }
    },
    {
      "cell_type": "markdown",
      "source": [
        "### 1. Save the best performing ml model in a pickle file or joblib file format for deployment process.\n"
      ],
      "metadata": {
        "id": "KH5McJBi2d8v"
      }
    },
    {
      "cell_type": "code",
      "source": [
        "# from google.colab import drive\n",
        "# drive.mount('/content/drive')"
      ],
      "metadata": {
        "id": "xfQCOaH3vVEV"
      },
      "execution_count": null,
      "outputs": []
    },
    {
      "cell_type": "code",
      "source": [
        "# import joblib\n",
        "# filename = 'finalized_model.sav'\n",
        "# joblib.dump(rfreg, filename)"
      ],
      "metadata": {
        "id": "bQIANRl32f4J"
      },
      "execution_count": null,
      "outputs": []
    },
    {
      "cell_type": "markdown",
      "source": [
        "### 2. Again Load the saved model file and try to predict unseen data for a sanity check.\n"
      ],
      "metadata": {
        "id": "iW_Lq9qf2h6X"
      }
    },
    {
      "cell_type": "code",
      "source": [
        "# import joblib\n",
        "# filename = 'finalized_model.sav'\n",
        "# rfreg = joblib.load(filename)\n",
        "# rfreg.predict(X_train)"
      ],
      "metadata": {
        "id": "oEXk9ydD2nVC"
      },
      "execution_count": null,
      "outputs": []
    },
    {
      "cell_type": "markdown",
      "source": [
        "### ***Congrats! Your model is successfully created and ready for deployment on a live server for a real user interaction !!!***"
      ],
      "metadata": {
        "id": "-Kee-DAl2viO"
      }
    },
    {
      "cell_type": "markdown",
      "source": [
        "# **Conclusion**"
      ],
      "metadata": {
        "id": "gCX9965dhzqZ"
      }
    },
    {
      "cell_type": "markdown",
      "source": [
        "Random Forest regressor is best trained model on above dataset. with below parameters.<br>\n",
        " { n_estimators=80,min_samples_split=2,min_samples_leaf=1,max_depth=None }<br>\n",
        "Which results below metrics\n",
        "Random Forest(n_estimator=80) RMSE: 1007.853701590495 <br>\n",
        "Random Forest(n_estimator=80) R^2 Score: 0.8947342231806028 <br>\n",
        "Random Forest(n_estimator=80) MAPE Score: 0.10849044228652"
      ],
      "metadata": {
        "id": "hKsbVIux1Pby"
      }
    },
    {
      "cell_type": "markdown",
      "source": [
        "![image.png](data:image/png;base64,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)"
      ],
      "metadata": {
        "id": "Fjb1IsQkh3yE"
      }
    },
    {
      "cell_type": "markdown",
      "source": [
        "### ***Hurrah! You have successfully completed your Machine Learning Capstone Project !!!***"
      ],
      "metadata": {
        "id": "gIfDvo9L0UH2"
      }
    }
  ]
}